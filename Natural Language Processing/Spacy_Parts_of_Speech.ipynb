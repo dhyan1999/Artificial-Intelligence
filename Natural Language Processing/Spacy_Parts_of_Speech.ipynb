{
  "nbformat": 4,
  "nbformat_minor": 0,
  "metadata": {
    "colab": {
      "name": "Spacy : Parts of Speech.ipynb",
      "provenance": [],
      "authorship_tag": "ABX9TyNQeXoXgEQbd5z0wwak8L/5",
      "include_colab_link": true
    },
    "kernelspec": {
      "name": "python3",
      "display_name": "Python 3"
    },
    "language_info": {
      "name": "python"
    },
    "accelerator": "GPU"
  },
  "cells": [
    {
      "cell_type": "markdown",
      "metadata": {
        "id": "view-in-github",
        "colab_type": "text"
      },
      "source": [
        "<a href=\"https://colab.research.google.com/github/dhyan1999/Artificial-Intelligence/blob/master/Natural%20Language%20Processing/Spacy_Parts_of_Speech.ipynb\" target=\"_parent\"><img src=\"https://colab.research.google.com/assets/colab-badge.svg\" alt=\"Open In Colab\"/></a>"
      ]
    },
    {
      "cell_type": "markdown",
      "metadata": {
        "id": "a2FQPv5ePW6c"
      },
      "source": [
        "###Parts of Speech"
      ]
    },
    {
      "cell_type": "code",
      "metadata": {
        "id": "mBR7uqKJPuyn"
      },
      "source": [
        "import spacy"
      ],
      "execution_count": 2,
      "outputs": []
    },
    {
      "cell_type": "code",
      "metadata": {
        "id": "EDazdF1rP6nK"
      },
      "source": [
        "nlp = spacy.load('en')"
      ],
      "execution_count": 3,
      "outputs": []
    },
    {
      "cell_type": "code",
      "metadata": {
        "id": "TODM8_R-Ppnk"
      },
      "source": [
        "exp1 = nlp(\"He drinks a drink\")"
      ],
      "execution_count": 4,
      "outputs": []
    },
    {
      "cell_type": "code",
      "metadata": {
        "colab": {
          "base_uri": "https://localhost:8080/"
        },
        "id": "Me_p-gQMPxh0",
        "outputId": "576c7866-1d8c-4e03-9cb7-7db8246e45ef"
      },
      "source": [
        "# .pos tell us the number of what type of text is these\n",
        "for word in exp1:\n",
        "  print(word.text,word.pos)\n",
        "\n",
        "print(\"------------------------\")\n",
        "# .pos_ tell us that what type of text is these\n",
        "for word in exp1:\n",
        "  print(word.text,word.pos_)"
      ],
      "execution_count": 5,
      "outputs": [
        {
          "output_type": "stream",
          "text": [
            "He 95\n",
            "drinks 100\n",
            "a 90\n",
            "drink 92\n",
            "------------------------\n",
            "He PRON\n",
            "drinks VERB\n",
            "a DET\n",
            "drink NOUN\n"
          ],
          "name": "stdout"
        }
      ]
    },
    {
      "cell_type": "code",
      "metadata": {
        "colab": {
          "base_uri": "https://localhost:8080/"
        },
        "id": "gp2s6ElhQBym",
        "outputId": "173f1f24-c211-4797-e7dc-0b66295a70b7"
      },
      "source": [
        "for word in exp1:\n",
        "  print(word.text,word.pos_,word.tag_)"
      ],
      "execution_count": 6,
      "outputs": [
        {
          "output_type": "stream",
          "text": [
            "He PRON PRP\n",
            "drinks VERB VBZ\n",
            "a DET DT\n",
            "drink NOUN NN\n"
          ],
          "name": "stdout"
        }
      ]
    },
    {
      "cell_type": "code",
      "metadata": {
        "colab": {
          "base_uri": "https://localhost:8080/",
          "height": 35
        },
        "id": "SJR0d0h8RCYo",
        "outputId": "d95ab6a0-1641-4960-fcee-eb0112f0902c"
      },
      "source": [
        "spacy.explain('VBP')"
      ],
      "execution_count": 7,
      "outputs": [
        {
          "output_type": "execute_result",
          "data": {
            "application/vnd.google.colaboratory.intrinsic+json": {
              "type": "string"
            },
            "text/plain": [
              "'verb, non-3rd person singular present'"
            ]
          },
          "metadata": {
            "tags": []
          },
          "execution_count": 7
        }
      ]
    },
    {
      "cell_type": "code",
      "metadata": {
        "id": "Emx0ToiMRHBN"
      },
      "source": [
        "exp2 = nlp(u\"All the faith he had had had had no effect on the outcome of his life\")"
      ],
      "execution_count": 8,
      "outputs": []
    },
    {
      "cell_type": "code",
      "metadata": {
        "colab": {
          "base_uri": "https://localhost:8080/"
        },
        "id": "PZeEpFh0ljaN",
        "outputId": "a4f21746-c78f-469a-bba4-6bcc54eb0d65"
      },
      "source": [
        "for word in exp2:\n",
        "  print((word.text,word.pos_,word.tag_))"
      ],
      "execution_count": 10,
      "outputs": [
        {
          "output_type": "stream",
          "text": [
            "('All', 'DET', 'PDT')\n",
            "('the', 'DET', 'DT')\n",
            "('faith', 'NOUN', 'NN')\n",
            "('he', 'PRON', 'PRP')\n",
            "('had', 'AUX', 'VBD')\n",
            "('had', 'VERB', 'VBN')\n",
            "('had', 'VERB', 'VBN')\n",
            "('had', 'VERB', 'VBN')\n",
            "('no', 'DET', 'DT')\n",
            "('effect', 'NOUN', 'NN')\n",
            "('on', 'ADP', 'IN')\n",
            "('the', 'DET', 'DT')\n",
            "('outcome', 'NOUN', 'NN')\n",
            "('of', 'ADP', 'IN')\n",
            "('his', 'DET', 'PRP$')\n",
            "('life', 'NOUN', 'NN')\n"
          ],
          "name": "stdout"
        }
      ]
    },
    {
      "cell_type": "code",
      "metadata": {
        "id": "PzH3pYnellwM"
      },
      "source": [
        "# Syntactic Dependecy\n",
        "# Helps us to know the relation between tokens\n",
        "exp3 = nlp(\"Sally likes Samy\")"
      ],
      "execution_count": 17,
      "outputs": []
    },
    {
      "cell_type": "code",
      "metadata": {
        "colab": {
          "base_uri": "https://localhost:8080/"
        },
        "id": "5TWzCyLul6Sw",
        "outputId": "d6ab884e-7ff5-4e54-a524-a6c4bd5bfad2"
      },
      "source": [
        "for word in exp3:\n",
        "  print((word.text,word.pos_,word.tag_,word.dep_))"
      ],
      "execution_count": 18,
      "outputs": [
        {
          "output_type": "stream",
          "text": [
            "('Sally', 'PROPN', 'NNP', 'nsubj')\n",
            "('likes', 'VERB', 'VBZ', 'ROOT')\n",
            "('Samy', 'PROPN', 'NNP', 'dobj')\n"
          ],
          "name": "stdout"
        }
      ]
    },
    {
      "cell_type": "code",
      "metadata": {
        "colab": {
          "base_uri": "https://localhost:8080/",
          "height": 35
        },
        "id": "6JcXWPgwmH5v",
        "outputId": "cb4df98b-6564-479a-90ce-6a3f01de6279"
      },
      "source": [
        "spacy.explain('nsubj')"
      ],
      "execution_count": 19,
      "outputs": [
        {
          "output_type": "execute_result",
          "data": {
            "application/vnd.google.colaboratory.intrinsic+json": {
              "type": "string"
            },
            "text/plain": [
              "'nominal subject'"
            ]
          },
          "metadata": {
            "tags": []
          },
          "execution_count": 19
        }
      ]
    },
    {
      "cell_type": "code",
      "metadata": {
        "colab": {
          "base_uri": "https://localhost:8080/",
          "height": 35
        },
        "id": "W0GNtWG9nBlg",
        "outputId": "735897b8-9a85-4f15-dad6-e648106055ea"
      },
      "source": [
        "spacy.explain('dobj')"
      ],
      "execution_count": 22,
      "outputs": [
        {
          "output_type": "execute_result",
          "data": {
            "application/vnd.google.colaboratory.intrinsic+json": {
              "type": "string"
            },
            "text/plain": [
              "'direct object'"
            ]
          },
          "metadata": {
            "tags": []
          },
          "execution_count": 22
        }
      ]
    },
    {
      "cell_type": "code",
      "metadata": {
        "id": "1fbMVIhWmgzj"
      },
      "source": [
        "# To display dependences and any other visulization\n",
        "from spacy import displacy"
      ],
      "execution_count": 20,
      "outputs": []
    },
    {
      "cell_type": "code",
      "metadata": {
        "colab": {
          "base_uri": "https://localhost:8080/",
          "height": 246
        },
        "id": "BIt6akyWm1yH",
        "outputId": "6429b9a7-ba34-4e49-8a7e-c2d4514c1ec3"
      },
      "source": [
        "displacy.render(exp3,style='dep',jupyter=True)"
      ],
      "execution_count": 21,
      "outputs": [
        {
          "output_type": "display_data",
          "data": {
            "text/html": [
              "<span class=\"tex2jax_ignore\"><svg xmlns=\"http://www.w3.org/2000/svg\" xmlns:xlink=\"http://www.w3.org/1999/xlink\" xml:lang=\"en\" id=\"d63d315f5cf543be921fe0b99fe99ed6-0\" class=\"displacy\" width=\"575\" height=\"224.5\" direction=\"ltr\" style=\"max-width: none; height: 224.5px; color: #000000; background: #ffffff; font-family: Arial; direction: ltr\">\n",
              "<text class=\"displacy-token\" fill=\"currentColor\" text-anchor=\"middle\" y=\"134.5\">\n",
              "    <tspan class=\"displacy-word\" fill=\"currentColor\" x=\"50\">Sally</tspan>\n",
              "    <tspan class=\"displacy-tag\" dy=\"2em\" fill=\"currentColor\" x=\"50\">PROPN</tspan>\n",
              "</text>\n",
              "\n",
              "<text class=\"displacy-token\" fill=\"currentColor\" text-anchor=\"middle\" y=\"134.5\">\n",
              "    <tspan class=\"displacy-word\" fill=\"currentColor\" x=\"225\">likes</tspan>\n",
              "    <tspan class=\"displacy-tag\" dy=\"2em\" fill=\"currentColor\" x=\"225\">VERB</tspan>\n",
              "</text>\n",
              "\n",
              "<text class=\"displacy-token\" fill=\"currentColor\" text-anchor=\"middle\" y=\"134.5\">\n",
              "    <tspan class=\"displacy-word\" fill=\"currentColor\" x=\"400\">Samy</tspan>\n",
              "    <tspan class=\"displacy-tag\" dy=\"2em\" fill=\"currentColor\" x=\"400\">PROPN</tspan>\n",
              "</text>\n",
              "\n",
              "<g class=\"displacy-arrow\">\n",
              "    <path class=\"displacy-arc\" id=\"arrow-d63d315f5cf543be921fe0b99fe99ed6-0-0\" stroke-width=\"2px\" d=\"M70,89.5 C70,2.0 225.0,2.0 225.0,89.5\" fill=\"none\" stroke=\"currentColor\"/>\n",
              "    <text dy=\"1.25em\" style=\"font-size: 0.8em; letter-spacing: 1px\">\n",
              "        <textPath xlink:href=\"#arrow-d63d315f5cf543be921fe0b99fe99ed6-0-0\" class=\"displacy-label\" startOffset=\"50%\" side=\"left\" fill=\"currentColor\" text-anchor=\"middle\">nsubj</textPath>\n",
              "    </text>\n",
              "    <path class=\"displacy-arrowhead\" d=\"M70,91.5 L62,79.5 78,79.5\" fill=\"currentColor\"/>\n",
              "</g>\n",
              "\n",
              "<g class=\"displacy-arrow\">\n",
              "    <path class=\"displacy-arc\" id=\"arrow-d63d315f5cf543be921fe0b99fe99ed6-0-1\" stroke-width=\"2px\" d=\"M245,89.5 C245,2.0 400.0,2.0 400.0,89.5\" fill=\"none\" stroke=\"currentColor\"/>\n",
              "    <text dy=\"1.25em\" style=\"font-size: 0.8em; letter-spacing: 1px\">\n",
              "        <textPath xlink:href=\"#arrow-d63d315f5cf543be921fe0b99fe99ed6-0-1\" class=\"displacy-label\" startOffset=\"50%\" side=\"left\" fill=\"currentColor\" text-anchor=\"middle\">dobj</textPath>\n",
              "    </text>\n",
              "    <path class=\"displacy-arrowhead\" d=\"M400.0,91.5 L408.0,79.5 392.0,79.5\" fill=\"currentColor\"/>\n",
              "</g>\n",
              "</svg></span>"
            ],
            "text/plain": [
              "<IPython.core.display.HTML object>"
            ]
          },
          "metadata": {
            "tags": []
          }
        }
      ]
    },
    {
      "cell_type": "code",
      "metadata": {
        "id": "EI0PoQobm8q9"
      },
      "source": [
        ""
      ],
      "execution_count": null,
      "outputs": []
    }
  ]
}