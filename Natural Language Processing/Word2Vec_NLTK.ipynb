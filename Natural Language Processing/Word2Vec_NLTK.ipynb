{
  "nbformat": 4,
  "nbformat_minor": 0,
  "metadata": {
    "colab": {
      "name": "Word2Vec NLTK.ipynb",
      "provenance": [],
      "authorship_tag": "ABX9TyPGKfBHfU99ulBdBIZQU9ds",
      "include_colab_link": true
    },
    "kernelspec": {
      "name": "python3",
      "display_name": "Python 3"
    },
    "language_info": {
      "name": "python"
    },
    "accelerator": "GPU"
  },
  "cells": [
    {
      "cell_type": "markdown",
      "metadata": {
        "id": "view-in-github",
        "colab_type": "text"
      },
      "source": [
        "<a href=\"https://colab.research.google.com/github/dhyan1999/Artificial-Intelligence/blob/master/Natural%20Language%20Processing/Word2Vec_NLTK.ipynb\" target=\"_parent\"><img src=\"https://colab.research.google.com/assets/colab-badge.svg\" alt=\"Open In Colab\"/></a>"
      ]
    },
    {
      "cell_type": "code",
      "metadata": {
        "id": "0G-6NHZlUp4w"
      },
      "source": [
        "import nltk"
      ],
      "execution_count": 1,
      "outputs": []
    },
    {
      "cell_type": "code",
      "metadata": {
        "colab": {
          "base_uri": "https://localhost:8080/"
        },
        "id": "sLhMgEAiU0GF",
        "outputId": "1da24428-4a9d-4de9-ae4d-95676344ef6a"
      },
      "source": [
        "pip install beautifulsoup4"
      ],
      "execution_count": 3,
      "outputs": [
        {
          "output_type": "stream",
          "text": [
            "Requirement already satisfied: beautifulsoup4 in /usr/local/lib/python3.7/dist-packages (4.6.3)\n"
          ],
          "name": "stdout"
        }
      ]
    },
    {
      "cell_type": "code",
      "metadata": {
        "colab": {
          "base_uri": "https://localhost:8080/"
        },
        "id": "fbhd6eEjVL-W",
        "outputId": "6ad0f67d-fada-43ee-ee22-cc3050ab8d48"
      },
      "source": [
        "pip install lxml"
      ],
      "execution_count": 4,
      "outputs": [
        {
          "output_type": "stream",
          "text": [
            "Requirement already satisfied: lxml in /usr/local/lib/python3.7/dist-packages (4.2.6)\n"
          ],
          "name": "stdout"
        }
      ]
    },
    {
      "cell_type": "code",
      "metadata": {
        "colab": {
          "base_uri": "https://localhost:8080/"
        },
        "id": "BrLjX4VrVO63",
        "outputId": "6ce8bd42-6d99-4ae0-f3e2-6fc4f22128a7"
      },
      "source": [
        "import nltk\n",
        "nltk.download('punkt')\n",
        "nltk.download('stopwords')"
      ],
      "execution_count": 5,
      "outputs": [
        {
          "output_type": "stream",
          "text": [
            "[nltk_data] Downloading package punkt to /root/nltk_data...\n",
            "[nltk_data]   Unzipping tokenizers/punkt.zip.\n",
            "[nltk_data] Downloading package stopwords to /root/nltk_data...\n",
            "[nltk_data]   Unzipping corpora/stopwords.zip.\n"
          ],
          "name": "stdout"
        },
        {
          "output_type": "execute_result",
          "data": {
            "text/plain": [
              "True"
            ]
          },
          "metadata": {
            "tags": []
          },
          "execution_count": 5
        }
      ]
    },
    {
      "cell_type": "code",
      "metadata": {
        "id": "yA7gzxvsVcMC"
      },
      "source": [
        "from gensim.models import Word2Vec"
      ],
      "execution_count": 6,
      "outputs": []
    },
    {
      "cell_type": "code",
      "metadata": {
        "id": "H76ItdOcVs4G"
      },
      "source": [
        "import re"
      ],
      "execution_count": 7,
      "outputs": []
    },
    {
      "cell_type": "code",
      "metadata": {
        "id": "q1RGcTFQV0nO"
      },
      "source": [
        "paragraph = \"\"\"I have three visions for India. In 3000 years of our history, people from all over \n",
        "               the world have come and invaded us, captured our lands, conquered our minds. \n",
        "               From Alexander onwards, the Greeks, the Turks, the Moguls, the Portuguese, the British,\n",
        "               the French, the Dutch, all of them came and looted us, took over what was ours. \n",
        "               Yet we have not done this to any other nation. We have not conquered anyone. \n",
        "               We have not grabbed their land, their culture, \n",
        "               their history and tried to enforce our way of life on them. \n",
        "               Why? Because we respect the freedom of others.That is why my \n",
        "               first vision is that of freedom. I believe that India got its first vision of \n",
        "               this in 1857, when we started the War of Independence. It is this freedom that\n",
        "               we must protect and nurture and build on. If we are not free, no one will respect us.\n",
        "               My second vision for India’s development. For fifty years we have been a developing nation.\n",
        "               It is time we see ourselves as a developed nation. We are among the top 5 nations of the world\n",
        "               in terms of GDP. We have a 10 percent growth rate in most areas. Our poverty levels are falling.\n",
        "               Our achievements are being globally recognised today. Yet we lack the self-confidence to\n",
        "               see ourselves as a developed nation, self-reliant and self-assured. Isn’t this incorrect?\n",
        "               I have a third vision. India must stand up to the world. Because I believe that unless India \n",
        "               stands up to the world, no one will respect us. Only strength respects strength. We must be \n",
        "               strong not only as a military power but also as an economic power. Both must go hand-in-hand. \n",
        "               My good fortune was to have worked with three great minds. Dr. Vikram Sarabhai of the Dept. of \n",
        "               space, Professor Satish Dhawan, who succeeded him and Dr. Brahm Prakash, father of nuclear material.\n",
        "               I was lucky to have worked with all three of them closely and consider this the great opportunity of my life. \n",
        "               I see four milestones in my career\"\"\""
      ],
      "execution_count": 8,
      "outputs": []
    },
    {
      "cell_type": "code",
      "metadata": {
        "id": "IqJcw7vgV4Ym"
      },
      "source": [
        "# Preprocessing the data\n",
        "text = re.sub(r'\\[[0-9]*\\]',' ',paragraph)\n",
        "text = re.sub(r'\\s+',' ',text)\n",
        "text = text.lower()\n",
        "text = re.sub(r'\\d',' ',text)\n",
        "text = re.sub(r'\\s+',' ',text)"
      ],
      "execution_count": 9,
      "outputs": []
    },
    {
      "cell_type": "code",
      "metadata": {
        "colab": {
          "base_uri": "https://localhost:8080/"
        },
        "id": "LHS_-IQ2V63_",
        "outputId": "4c115c62-ab62-4d01-9b8d-cf734cc9e684"
      },
      "source": [
        "print(text)"
      ],
      "execution_count": 10,
      "outputs": [
        {
          "output_type": "stream",
          "text": [
            "i have three visions for india. in years of our history, people from all over the world have come and invaded us, captured our lands, conquered our minds. from alexander onwards, the greeks, the turks, the moguls, the portuguese, the british, the french, the dutch, all of them came and looted us, took over what was ours. yet we have not done this to any other nation. we have not conquered anyone. we have not grabbed their land, their culture, their history and tried to enforce our way of life on them. why? because we respect the freedom of others.that is why my first vision is that of freedom. i believe that india got its first vision of this in , when we started the war of independence. it is this freedom that we must protect and nurture and build on. if we are not free, no one will respect us. my second vision for india’s development. for fifty years we have been a developing nation. it is time we see ourselves as a developed nation. we are among the top nations of the world in terms of gdp. we have a percent growth rate in most areas. our poverty levels are falling. our achievements are being globally recognised today. yet we lack the self-confidence to see ourselves as a developed nation, self-reliant and self-assured. isn’t this incorrect? i have a third vision. india must stand up to the world. because i believe that unless india stands up to the world, no one will respect us. only strength respects strength. we must be strong not only as a military power but also as an economic power. both must go hand-in-hand. my good fortune was to have worked with three great minds. dr. vikram sarabhai of the dept. of space, professor satish dhawan, who succeeded him and dr. brahm prakash, father of nuclear material. i was lucky to have worked with all three of them closely and consider this the great opportunity of my life. i see four milestones in my career\n"
          ],
          "name": "stdout"
        }
      ]
    },
    {
      "cell_type": "code",
      "metadata": {
        "id": "6OjBTPtaWEeq"
      },
      "source": [
        "# Preparing the dataset\n",
        "sentences = nltk.sent_tokenize(text)"
      ],
      "execution_count": 11,
      "outputs": []
    },
    {
      "cell_type": "code",
      "metadata": {
        "colab": {
          "base_uri": "https://localhost:8080/"
        },
        "id": "PVfriDyaWODu",
        "outputId": "ffacea64-c374-40c7-95b8-b0979b1357ee"
      },
      "source": [
        "print(sentences)"
      ],
      "execution_count": 12,
      "outputs": [
        {
          "output_type": "stream",
          "text": [
            "['i have three visions for india.', 'in years of our history, people from all over the world have come and invaded us, captured our lands, conquered our minds.', 'from alexander onwards, the greeks, the turks, the moguls, the portuguese, the british, the french, the dutch, all of them came and looted us, took over what was ours.', 'yet we have not done this to any other nation.', 'we have not conquered anyone.', 'we have not grabbed their land, their culture, their history and tried to enforce our way of life on them.', 'why?', 'because we respect the freedom of others.that is why my first vision is that of freedom.', 'i believe that india got its first vision of this in , when we started the war of independence.', 'it is this freedom that we must protect and nurture and build on.', 'if we are not free, no one will respect us.', 'my second vision for india’s development.', 'for fifty years we have been a developing nation.', 'it is time we see ourselves as a developed nation.', 'we are among the top nations of the world in terms of gdp.', 'we have a percent growth rate in most areas.', 'our poverty levels are falling.', 'our achievements are being globally recognised today.', 'yet we lack the self-confidence to see ourselves as a developed nation, self-reliant and self-assured.', 'isn’t this incorrect?', 'i have a third vision.', 'india must stand up to the world.', 'because i believe that unless india stands up to the world, no one will respect us.', 'only strength respects strength.', 'we must be strong not only as a military power but also as an economic power.', 'both must go hand-in-hand.', 'my good fortune was to have worked with three great minds.', 'dr. vikram sarabhai of the dept.', 'of space, professor satish dhawan, who succeeded him and dr. brahm prakash, father of nuclear material.', 'i was lucky to have worked with all three of them closely and consider this the great opportunity of my life.', 'i see four milestones in my career']\n"
          ],
          "name": "stdout"
        }
      ]
    },
    {
      "cell_type": "code",
      "metadata": {
        "id": "WpU6LRotWRO4"
      },
      "source": [
        "sentences = [nltk.word_tokenize(sentence) for sentence in sentences]"
      ],
      "execution_count": 13,
      "outputs": []
    },
    {
      "cell_type": "code",
      "metadata": {
        "id": "yHnUsYF_WjMt"
      },
      "source": [
        "from nltk.corpus import stopwords"
      ],
      "execution_count": 14,
      "outputs": []
    },
    {
      "cell_type": "code",
      "metadata": {
        "id": "0_5NlUZfWVh4"
      },
      "source": [
        "for i in range(len(sentences)):\n",
        "    sentences[i] = [word for word in sentences[i] if word not in stopwords.words('english')]\n",
        "    "
      ],
      "execution_count": 15,
      "outputs": []
    },
    {
      "cell_type": "code",
      "metadata": {
        "id": "n-rtAAmQWZuG"
      },
      "source": [
        "# Training the Word2Vec model\n",
        "model = Word2Vec(sentences, min_count=1)"
      ],
      "execution_count": 16,
      "outputs": []
    },
    {
      "cell_type": "code",
      "metadata": {
        "id": "qi_iiZHCWnvs"
      },
      "source": [
        "words = model.wv.vocab"
      ],
      "execution_count": 17,
      "outputs": []
    },
    {
      "cell_type": "code",
      "metadata": {
        "colab": {
          "base_uri": "https://localhost:8080/"
        },
        "id": "h0vv9RL8bQyG",
        "outputId": "ad06d006-86b1-4ecb-bfef-bd5f34ad2566"
      },
      "source": [
        "words"
      ],
      "execution_count": 18,
      "outputs": [
        {
          "output_type": "execute_result",
          "data": {
            "text/plain": [
              "{',': <gensim.models.keyedvectors.Vocab at 0x7f8f374bea50>,\n",
              " '.': <gensim.models.keyedvectors.Vocab at 0x7f8f374beb90>,\n",
              " '?': <gensim.models.keyedvectors.Vocab at 0x7f8f374c5290>,\n",
              " 'achievements': <gensim.models.keyedvectors.Vocab at 0x7f8f374c7d50>,\n",
              " 'alexander': <gensim.models.keyedvectors.Vocab at 0x7f8f374c5e90>,\n",
              " 'also': <gensim.models.keyedvectors.Vocab at 0x7f8f374c2d90>,\n",
              " 'among': <gensim.models.keyedvectors.Vocab at 0x7f8f374c7e10>,\n",
              " 'anyone': <gensim.models.keyedvectors.Vocab at 0x7f8f374c5750>,\n",
              " 'areas': <gensim.models.keyedvectors.Vocab at 0x7f8f374c7bd0>,\n",
              " 'believe': <gensim.models.keyedvectors.Vocab at 0x7f8f374c78d0>,\n",
              " 'brahm': <gensim.models.keyedvectors.Vocab at 0x7f8f374c0f90>,\n",
              " 'british': <gensim.models.keyedvectors.Vocab at 0x7f8f374c5c10>,\n",
              " 'build': <gensim.models.keyedvectors.Vocab at 0x7f8f374c7cd0>,\n",
              " 'came': <gensim.models.keyedvectors.Vocab at 0x7f8f374c5790>,\n",
              " 'captured': <gensim.models.keyedvectors.Vocab at 0x7f8f374be8d0>,\n",
              " 'career': <gensim.models.keyedvectors.Vocab at 0x7f8f374c06d0>,\n",
              " 'closely': <gensim.models.keyedvectors.Vocab at 0x7f8f374c0b10>,\n",
              " 'come': <gensim.models.keyedvectors.Vocab at 0x7f8f374bed50>,\n",
              " 'conquered': <gensim.models.keyedvectors.Vocab at 0x7f8f374bef50>,\n",
              " 'consider': <gensim.models.keyedvectors.Vocab at 0x7f8f374c0550>,\n",
              " 'culture': <gensim.models.keyedvectors.Vocab at 0x7f8f374c52d0>,\n",
              " 'dept': <gensim.models.keyedvectors.Vocab at 0x7f8f374c2150>,\n",
              " 'developed': <gensim.models.keyedvectors.Vocab at 0x7f8f374c7e90>,\n",
              " 'developing': <gensim.models.keyedvectors.Vocab at 0x7f8f374c7f10>,\n",
              " 'development': <gensim.models.keyedvectors.Vocab at 0x7f8f374c7f90>,\n",
              " 'dhawan': <gensim.models.keyedvectors.Vocab at 0x7f8f374c0910>,\n",
              " 'done': <gensim.models.keyedvectors.Vocab at 0x7f8f374c5950>,\n",
              " 'dr.': <gensim.models.keyedvectors.Vocab at 0x7f8f374c2c50>,\n",
              " 'dutch': <gensim.models.keyedvectors.Vocab at 0x7f8f374c58d0>,\n",
              " 'economic': <gensim.models.keyedvectors.Vocab at 0x7f8f374c2e90>,\n",
              " 'enforce': <gensim.models.keyedvectors.Vocab at 0x7f8f374c5150>,\n",
              " 'falling': <gensim.models.keyedvectors.Vocab at 0x7f8f374c7c10>,\n",
              " 'father': <gensim.models.keyedvectors.Vocab at 0x7f8f374c0ed0>,\n",
              " 'fifty': <gensim.models.keyedvectors.Vocab at 0x7f8f374c7fd0>,\n",
              " 'first': <gensim.models.keyedvectors.Vocab at 0x7f8f374c7b50>,\n",
              " 'fortune': <gensim.models.keyedvectors.Vocab at 0x7f8f374c28d0>,\n",
              " 'four': <gensim.models.keyedvectors.Vocab at 0x7f8f374c04d0>,\n",
              " 'free': <gensim.models.keyedvectors.Vocab at 0x7f8f374c7990>,\n",
              " 'freedom': <gensim.models.keyedvectors.Vocab at 0x7f8f374c5210>,\n",
              " 'french': <gensim.models.keyedvectors.Vocab at 0x7f8f374c56d0>,\n",
              " 'gdp': <gensim.models.keyedvectors.Vocab at 0x7f8f374c7c50>,\n",
              " 'globally': <gensim.models.keyedvectors.Vocab at 0x7f8f374c7a50>,\n",
              " 'go': <gensim.models.keyedvectors.Vocab at 0x7f8f374c2090>,\n",
              " 'good': <gensim.models.keyedvectors.Vocab at 0x7f8f374c21d0>,\n",
              " 'got': <gensim.models.keyedvectors.Vocab at 0x7f8f374c7890>,\n",
              " 'grabbed': <gensim.models.keyedvectors.Vocab at 0x7f8f374c5a90>,\n",
              " 'great': <gensim.models.keyedvectors.Vocab at 0x7f8f374c2d50>,\n",
              " 'greeks': <gensim.models.keyedvectors.Vocab at 0x7f8f374c5e10>,\n",
              " 'growth': <gensim.models.keyedvectors.Vocab at 0x7f8f374c7a10>,\n",
              " 'hand-in-hand': <gensim.models.keyedvectors.Vocab at 0x7f8f374c2b50>,\n",
              " 'history': <gensim.models.keyedvectors.Vocab at 0x7f8f374be150>,\n",
              " 'incorrect': <gensim.models.keyedvectors.Vocab at 0x7f8f374c22d0>,\n",
              " 'independence': <gensim.models.keyedvectors.Vocab at 0x7f8f374c7850>,\n",
              " 'india': <gensim.models.keyedvectors.Vocab at 0x7f8f374bea10>,\n",
              " 'invaded': <gensim.models.keyedvectors.Vocab at 0x7f8f374be710>,\n",
              " 'lack': <gensim.models.keyedvectors.Vocab at 0x7f8f374c2610>,\n",
              " 'land': <gensim.models.keyedvectors.Vocab at 0x7f8f374c53d0>,\n",
              " 'lands': <gensim.models.keyedvectors.Vocab at 0x7f8f374bec90>,\n",
              " 'levels': <gensim.models.keyedvectors.Vocab at 0x7f8f374c79d0>,\n",
              " 'life': <gensim.models.keyedvectors.Vocab at 0x7f8f374c50d0>,\n",
              " 'looted': <gensim.models.keyedvectors.Vocab at 0x7f8f374c5990>,\n",
              " 'lucky': <gensim.models.keyedvectors.Vocab at 0x7f8f374c0a50>,\n",
              " 'material': <gensim.models.keyedvectors.Vocab at 0x7f8f374c02d0>,\n",
              " 'milestones': <gensim.models.keyedvectors.Vocab at 0x7f8f374c0490>,\n",
              " 'military': <gensim.models.keyedvectors.Vocab at 0x7f8f374c2bd0>,\n",
              " 'minds': <gensim.models.keyedvectors.Vocab at 0x7f8f374c5b50>,\n",
              " 'moguls': <gensim.models.keyedvectors.Vocab at 0x7f8f374c5cd0>,\n",
              " 'must': <gensim.models.keyedvectors.Vocab at 0x7f8f374c7ad0>,\n",
              " 'nation': <gensim.models.keyedvectors.Vocab at 0x7f8f374c5a50>,\n",
              " 'nations': <gensim.models.keyedvectors.Vocab at 0x7f8f374c7b10>,\n",
              " 'nuclear': <gensim.models.keyedvectors.Vocab at 0x7f8f374c0690>,\n",
              " 'nurture': <gensim.models.keyedvectors.Vocab at 0x7f8f374c7a90>,\n",
              " 'one': <gensim.models.keyedvectors.Vocab at 0x7f8f374c7ed0>,\n",
              " 'onwards': <gensim.models.keyedvectors.Vocab at 0x7f8f374c5c90>,\n",
              " 'opportunity': <gensim.models.keyedvectors.Vocab at 0x7f8f374c0450>,\n",
              " 'others.that': <gensim.models.keyedvectors.Vocab at 0x7f8f374c5690>,\n",
              " 'people': <gensim.models.keyedvectors.Vocab at 0x7f8f374befd0>,\n",
              " 'percent': <gensim.models.keyedvectors.Vocab at 0x7f8f374c7c90>,\n",
              " 'portuguese': <gensim.models.keyedvectors.Vocab at 0x7f8f374c5bd0>,\n",
              " 'poverty': <gensim.models.keyedvectors.Vocab at 0x7f8f374c7d10>,\n",
              " 'power': <gensim.models.keyedvectors.Vocab at 0x7f8f374c2f10>,\n",
              " 'prakash': <gensim.models.keyedvectors.Vocab at 0x7f8f374c0b90>,\n",
              " 'professor': <gensim.models.keyedvectors.Vocab at 0x7f8f374c0c90>,\n",
              " 'protect': <gensim.models.keyedvectors.Vocab at 0x7f8f374c7190>,\n",
              " 'rate': <gensim.models.keyedvectors.Vocab at 0x7f8f374c7810>,\n",
              " 'recognised': <gensim.models.keyedvectors.Vocab at 0x7f8f374c2450>,\n",
              " 'respect': <gensim.models.keyedvectors.Vocab at 0x7f8f374c51d0>,\n",
              " 'respects': <gensim.models.keyedvectors.Vocab at 0x7f8f374c2a10>,\n",
              " 'sarabhai': <gensim.models.keyedvectors.Vocab at 0x7f8f374c2590>,\n",
              " 'satish': <gensim.models.keyedvectors.Vocab at 0x7f8f374c0290>,\n",
              " 'second': <gensim.models.keyedvectors.Vocab at 0x7f8f374c7f50>,\n",
              " 'see': <gensim.models.keyedvectors.Vocab at 0x7f8f374c7e50>,\n",
              " 'self-assured': <gensim.models.keyedvectors.Vocab at 0x7f8f374c2390>,\n",
              " 'self-confidence': <gensim.models.keyedvectors.Vocab at 0x7f8f374c2a50>,\n",
              " 'self-reliant': <gensim.models.keyedvectors.Vocab at 0x7f8f374c2790>,\n",
              " 'space': <gensim.models.keyedvectors.Vocab at 0x7f8f374c2510>,\n",
              " 'stand': <gensim.models.keyedvectors.Vocab at 0x7f8f374c2310>,\n",
              " 'stands': <gensim.models.keyedvectors.Vocab at 0x7f8f374c2b90>,\n",
              " 'started': <gensim.models.keyedvectors.Vocab at 0x7f8f374c77d0>,\n",
              " 'strength': <gensim.models.keyedvectors.Vocab at 0x7f8f374c2850>,\n",
              " 'strong': <gensim.models.keyedvectors.Vocab at 0x7f8f374c2490>,\n",
              " 'succeeded': <gensim.models.keyedvectors.Vocab at 0x7f8f374c0e90>,\n",
              " 'terms': <gensim.models.keyedvectors.Vocab at 0x7f8f374c7790>,\n",
              " 'third': <gensim.models.keyedvectors.Vocab at 0x7f8f374c2990>,\n",
              " 'three': <gensim.models.keyedvectors.Vocab at 0x7f8f374beb10>,\n",
              " 'time': <gensim.models.keyedvectors.Vocab at 0x7f8f374c7dd0>,\n",
              " 'today': <gensim.models.keyedvectors.Vocab at 0x7f8f374c20d0>,\n",
              " 'took': <gensim.models.keyedvectors.Vocab at 0x7f8f374c5810>,\n",
              " 'top': <gensim.models.keyedvectors.Vocab at 0x7f8f374c7d90>,\n",
              " 'tried': <gensim.models.keyedvectors.Vocab at 0x7f8f374c5550>,\n",
              " 'turks': <gensim.models.keyedvectors.Vocab at 0x7f8f374c5e50>,\n",
              " 'unless': <gensim.models.keyedvectors.Vocab at 0x7f8f374c2650>,\n",
              " 'us': <gensim.models.keyedvectors.Vocab at 0x7f8f374bee90>,\n",
              " 'vikram': <gensim.models.keyedvectors.Vocab at 0x7f8f374c2cd0>,\n",
              " 'vision': <gensim.models.keyedvectors.Vocab at 0x7f8f374c7090>,\n",
              " 'visions': <gensim.models.keyedvectors.Vocab at 0x7f8f374bea90>,\n",
              " 'war': <gensim.models.keyedvectors.Vocab at 0x7f8f374c7750>,\n",
              " 'way': <gensim.models.keyedvectors.Vocab at 0x7f8f374c5390>,\n",
              " 'worked': <gensim.models.keyedvectors.Vocab at 0x7f8f374c2750>,\n",
              " 'world': <gensim.models.keyedvectors.Vocab at 0x7f8f374be890>,\n",
              " 'years': <gensim.models.keyedvectors.Vocab at 0x7f8f374be050>,\n",
              " 'yet': <gensim.models.keyedvectors.Vocab at 0x7f8f374c5850>,\n",
              " '’': <gensim.models.keyedvectors.Vocab at 0x7f8f374c7390>}"
            ]
          },
          "metadata": {
            "tags": []
          },
          "execution_count": 18
        }
      ]
    },
    {
      "cell_type": "code",
      "metadata": {
        "id": "xuMnV-L7Wqns"
      },
      "source": [
        "# Finding Word Vectors\n",
        "vector = model.wv['war']"
      ],
      "execution_count": 19,
      "outputs": []
    },
    {
      "cell_type": "code",
      "metadata": {
        "colab": {
          "base_uri": "https://localhost:8080/"
        },
        "id": "neL75F9bUDH8",
        "outputId": "8f6b609c-b0e7-4913-cb20-412c9a5a43c3"
      },
      "source": [
        "print(vector)"
      ],
      "execution_count": 21,
      "outputs": [
        {
          "output_type": "stream",
          "text": [
            "[ 3.5421567e-03  8.6793624e-04  2.0197085e-03  3.2666808e-03\n",
            " -3.9526296e-04 -1.2625555e-04  3.5160598e-03  9.8787183e-05\n",
            "  4.9407347e-03  3.2638842e-03  1.7815911e-03  9.5162122e-04\n",
            " -2.4072637e-03 -4.8596100e-03  3.7537711e-03  1.9751037e-03\n",
            " -3.4675237e-03  2.7663754e-03  2.8092959e-03  1.9932906e-03\n",
            " -1.9826260e-03 -7.4334198e-04 -3.0477596e-03 -6.4015250e-05\n",
            " -3.1569039e-03  4.0199659e-03 -4.2107450e-03  3.1192733e-03\n",
            " -3.2596656e-03  2.0473304e-03 -1.5875903e-03  4.1390052e-03\n",
            "  1.7869706e-03  2.3207508e-03  2.2954845e-03 -3.5253949e-03\n",
            "  3.1351761e-03 -2.4333925e-03 -2.3434637e-03 -2.6756506e-03\n",
            " -2.2174208e-03 -5.1527011e-04 -3.5117618e-03  1.7867432e-03\n",
            "  5.1934912e-04 -2.5794557e-03  2.2892645e-03  3.2386761e-03\n",
            " -4.0678768e-03 -2.9165098e-03 -3.5332583e-03  4.4998876e-03\n",
            "  9.1903313e-04  2.6755126e-03 -4.4309250e-03 -4.8671071e-03\n",
            " -1.8451749e-03 -1.0784969e-03 -2.7811504e-03  1.7975406e-03\n",
            " -1.2217421e-03 -4.8150301e-05  4.2021592e-04 -1.4572764e-03\n",
            "  1.0749408e-03 -2.4333422e-03  3.1648530e-03 -7.4758625e-04\n",
            " -2.5085306e-03 -2.6223899e-03 -3.0799548e-03 -4.1637938e-03\n",
            " -3.0101789e-03  2.8886094e-03 -2.2744639e-03  8.2545879e-04\n",
            "  2.4597687e-03  2.1804094e-03  3.1609903e-03 -5.1299378e-04\n",
            "  1.2974109e-04  1.6304309e-03 -2.9201726e-03 -4.2402539e-03\n",
            " -5.5734214e-05 -4.2267358e-03  1.6325896e-04 -5.7813030e-04\n",
            " -5.3737924e-04 -4.0366766e-03  1.8258467e-03 -3.6373059e-03\n",
            " -2.3872866e-03 -7.9936552e-05  4.2710509e-03  2.9964214e-03\n",
            "  3.1588962e-03 -3.6689916e-03 -7.7417656e-04  1.6993379e-03]\n"
          ],
          "name": "stdout"
        }
      ]
    },
    {
      "cell_type": "code",
      "metadata": {
        "id": "GL0KFc3GWsXS"
      },
      "source": [
        "# Most similar words\n",
        "similar = model.wv.most_similar('vikram')"
      ],
      "execution_count": 20,
      "outputs": []
    },
    {
      "cell_type": "code",
      "metadata": {
        "id": "wBjkJSb3Wuz2",
        "colab": {
          "base_uri": "https://localhost:8080/"
        },
        "outputId": "df3ff43c-7e6f-4e77-aee3-afdc4d6f4045"
      },
      "source": [
        "print(similar)"
      ],
      "execution_count": 22,
      "outputs": [
        {
          "output_type": "stream",
          "text": [
            "[('history', 0.28303176164627075), ('poverty', 0.22107622027397156), ('strong', 0.19007864594459534), ('us', 0.18749263882637024), ('vision', 0.18664312362670898), ('must', 0.18574264645576477), ('’', 0.17889589071273804), ('economic', 0.16752243041992188), ('came', 0.16669975221157074), ('milestones', 0.1626909077167511)]\n"
          ],
          "name": "stdout"
        }
      ]
    },
    {
      "cell_type": "code",
      "metadata": {
        "id": "Q3sErgMbUJ09"
      },
      "source": [
        ""
      ],
      "execution_count": null,
      "outputs": []
    }
  ]
}