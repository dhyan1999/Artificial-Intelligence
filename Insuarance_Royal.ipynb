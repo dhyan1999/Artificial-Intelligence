{
  "nbformat": 4,
  "nbformat_minor": 0,
  "metadata": {
    "colab": {
      "name": "Insuarance_Royal.ipynb",
      "provenance": [],
      "include_colab_link": true
    },
    "kernelspec": {
      "name": "python3",
      "display_name": "Python 3"
    }
  },
  "cells": [
    {
      "cell_type": "markdown",
      "metadata": {
        "id": "view-in-github",
        "colab_type": "text"
      },
      "source": [
        "<a href=\"https://colab.research.google.com/github/dhyan1999/Royal-DL/blob/master/Insuarance_Royal.ipynb\" target=\"_parent\"><img src=\"https://colab.research.google.com/assets/colab-badge.svg\" alt=\"Open In Colab\"/></a>"
      ]
    },
    {
      "cell_type": "markdown",
      "metadata": {
        "id": "WSJgplK0oXaV",
        "colab_type": "text"
      },
      "source": [
        "**Data Set**\n",
        "\n",
        "Columns\n",
        "\n",
        "age: age of primary beneficiary\n",
        "\n",
        "sex: insurance contractor gender, female, male\n",
        "\n",
        "bmi: Body mass index, providing an understanding of body, weights that are relatively high or low relative to height,\n",
        "objective index of body weight (kg / m ^ 2) using the ratio of height to weight, ideally 18.5 to 24.9\n",
        "\n",
        "children: Number of children covered by health insurance / Number of dependents\n",
        "\n",
        "smoker: Smoking\n",
        "\n",
        "region: the beneficiary's residential area in the US, northeast, southeast, southwest, northwest.\n",
        "\n",
        "charges: Individual medical costs billed by health insurance"
      ]
    },
    {
      "cell_type": "code",
      "metadata": {
        "id": "4NgvbF54oat-",
        "colab_type": "code",
        "colab": {}
      },
      "source": [
        "import numpy as np\n",
        "import pandas as pd\n",
        "import keras.utils as to_categorical\n",
        "from sklearn.preprocessing import LabelEncoder"
      ],
      "execution_count": 1,
      "outputs": []
    },
    {
      "cell_type": "code",
      "metadata": {
        "id": "NVUMyhRuo151",
        "colab_type": "code",
        "colab": {
          "base_uri": "https://localhost:8080/",
          "height": 195
        },
        "outputId": "af3d76ef-6525-47e4-ea15-fb3efc905bd7"
      },
      "source": [
        "dataset = pd.read_csv('/content/datasets_13720_18513_insurance.csv')\n",
        "dataset.head()"
      ],
      "execution_count": 2,
      "outputs": [
        {
          "output_type": "execute_result",
          "data": {
            "text/html": [
              "<div>\n",
              "<style scoped>\n",
              "    .dataframe tbody tr th:only-of-type {\n",
              "        vertical-align: middle;\n",
              "    }\n",
              "\n",
              "    .dataframe tbody tr th {\n",
              "        vertical-align: top;\n",
              "    }\n",
              "\n",
              "    .dataframe thead th {\n",
              "        text-align: right;\n",
              "    }\n",
              "</style>\n",
              "<table border=\"1\" class=\"dataframe\">\n",
              "  <thead>\n",
              "    <tr style=\"text-align: right;\">\n",
              "      <th></th>\n",
              "      <th>age</th>\n",
              "      <th>sex</th>\n",
              "      <th>bmi</th>\n",
              "      <th>children</th>\n",
              "      <th>smoker</th>\n",
              "      <th>region</th>\n",
              "      <th>charges</th>\n",
              "    </tr>\n",
              "  </thead>\n",
              "  <tbody>\n",
              "    <tr>\n",
              "      <th>0</th>\n",
              "      <td>19</td>\n",
              "      <td>female</td>\n",
              "      <td>27.900</td>\n",
              "      <td>0</td>\n",
              "      <td>yes</td>\n",
              "      <td>southwest</td>\n",
              "      <td>16884.92400</td>\n",
              "    </tr>\n",
              "    <tr>\n",
              "      <th>1</th>\n",
              "      <td>18</td>\n",
              "      <td>male</td>\n",
              "      <td>33.770</td>\n",
              "      <td>1</td>\n",
              "      <td>no</td>\n",
              "      <td>southeast</td>\n",
              "      <td>1725.55230</td>\n",
              "    </tr>\n",
              "    <tr>\n",
              "      <th>2</th>\n",
              "      <td>28</td>\n",
              "      <td>male</td>\n",
              "      <td>33.000</td>\n",
              "      <td>3</td>\n",
              "      <td>no</td>\n",
              "      <td>southeast</td>\n",
              "      <td>4449.46200</td>\n",
              "    </tr>\n",
              "    <tr>\n",
              "      <th>3</th>\n",
              "      <td>33</td>\n",
              "      <td>male</td>\n",
              "      <td>22.705</td>\n",
              "      <td>0</td>\n",
              "      <td>no</td>\n",
              "      <td>northwest</td>\n",
              "      <td>21984.47061</td>\n",
              "    </tr>\n",
              "    <tr>\n",
              "      <th>4</th>\n",
              "      <td>32</td>\n",
              "      <td>male</td>\n",
              "      <td>28.880</td>\n",
              "      <td>0</td>\n",
              "      <td>no</td>\n",
              "      <td>northwest</td>\n",
              "      <td>3866.85520</td>\n",
              "    </tr>\n",
              "  </tbody>\n",
              "</table>\n",
              "</div>"
            ],
            "text/plain": [
              "   age     sex     bmi  children smoker     region      charges\n",
              "0   19  female  27.900         0    yes  southwest  16884.92400\n",
              "1   18    male  33.770         1     no  southeast   1725.55230\n",
              "2   28    male  33.000         3     no  southeast   4449.46200\n",
              "3   33    male  22.705         0     no  northwest  21984.47061\n",
              "4   32    male  28.880         0     no  northwest   3866.85520"
            ]
          },
          "metadata": {
            "tags": []
          },
          "execution_count": 2
        }
      ]
    },
    {
      "cell_type": "code",
      "metadata": {
        "id": "E-6KmAVipBqY",
        "colab_type": "code",
        "colab": {
          "base_uri": "https://localhost:8080/",
          "height": 195
        },
        "outputId": "877f8bbd-fa75-4f39-d3e1-1a8807209ca7"
      },
      "source": [
        "\n",
        "encoder = LabelEncoder()\n",
        "dataset['sex'] = encoder.fit_transform(dataset['sex'])\n",
        "dataset['smoker'] = encoder.fit_transform(dataset['smoker'])\n",
        "dataset['region'] = encoder.fit_transform(dataset['region'])\n",
        "\n",
        "dataset['age'] = (dataset['age']-dataset['age'].mean())/dataset['age'].max()\n",
        "dataset['sex'] = (dataset['sex']-dataset['sex'].mean())/dataset['sex'].max()\n",
        "dataset['bmi'] = (dataset['bmi']-dataset['bmi'].mean())/dataset['bmi'].max()\n",
        "dataset['children'] = (dataset['children']-dataset['children'].mean())/dataset['children'].max()\n",
        "dataset['smoker'] = (dataset['smoker']-dataset['smoker'].mean())/dataset['smoker'].max()\n",
        "dataset['region'] = (dataset['region']-dataset['region'].mean())/dataset['region'].max()\n",
        "dataset['charges'] = (dataset['charges']-dataset['charges'].mean())/dataset['charges'].max()\n",
        "dataset.head()"
      ],
      "execution_count": 3,
      "outputs": [
        {
          "output_type": "execute_result",
          "data": {
            "text/html": [
              "<div>\n",
              "<style scoped>\n",
              "    .dataframe tbody tr th:only-of-type {\n",
              "        vertical-align: middle;\n",
              "    }\n",
              "\n",
              "    .dataframe tbody tr th {\n",
              "        vertical-align: top;\n",
              "    }\n",
              "\n",
              "    .dataframe thead th {\n",
              "        text-align: right;\n",
              "    }\n",
              "</style>\n",
              "<table border=\"1\" class=\"dataframe\">\n",
              "  <thead>\n",
              "    <tr style=\"text-align: right;\">\n",
              "      <th></th>\n",
              "      <th>age</th>\n",
              "      <th>sex</th>\n",
              "      <th>bmi</th>\n",
              "      <th>children</th>\n",
              "      <th>smoker</th>\n",
              "      <th>region</th>\n",
              "      <th>charges</th>\n",
              "    </tr>\n",
              "  </thead>\n",
              "  <tbody>\n",
              "    <tr>\n",
              "      <th>0</th>\n",
              "      <td>-0.315735</td>\n",
              "      <td>-0.505232</td>\n",
              "      <td>-0.052012</td>\n",
              "      <td>-0.218984</td>\n",
              "      <td>0.795217</td>\n",
              "      <td>0.494768</td>\n",
              "      <td>0.056680</td>\n",
              "    </tr>\n",
              "    <tr>\n",
              "      <th>1</th>\n",
              "      <td>-0.331360</td>\n",
              "      <td>0.494768</td>\n",
              "      <td>0.058472</td>\n",
              "      <td>-0.018984</td>\n",
              "      <td>-0.204783</td>\n",
              "      <td>0.161435</td>\n",
              "      <td>-0.181038</td>\n",
              "    </tr>\n",
              "    <tr>\n",
              "      <th>2</th>\n",
              "      <td>-0.175110</td>\n",
              "      <td>0.494768</td>\n",
              "      <td>0.043979</td>\n",
              "      <td>0.381016</td>\n",
              "      <td>-0.204783</td>\n",
              "      <td>0.161435</td>\n",
              "      <td>-0.138324</td>\n",
              "    </tr>\n",
              "    <tr>\n",
              "      <th>3</th>\n",
              "      <td>-0.096985</td>\n",
              "      <td>0.494768</td>\n",
              "      <td>-0.149791</td>\n",
              "      <td>-0.218984</td>\n",
              "      <td>-0.204783</td>\n",
              "      <td>-0.171898</td>\n",
              "      <td>0.136647</td>\n",
              "    </tr>\n",
              "    <tr>\n",
              "      <th>4</th>\n",
              "      <td>-0.112610</td>\n",
              "      <td>0.494768</td>\n",
              "      <td>-0.033567</td>\n",
              "      <td>-0.218984</td>\n",
              "      <td>-0.204783</td>\n",
              "      <td>-0.171898</td>\n",
              "      <td>-0.147460</td>\n",
              "    </tr>\n",
              "  </tbody>\n",
              "</table>\n",
              "</div>"
            ],
            "text/plain": [
              "        age       sex       bmi  children    smoker    region   charges\n",
              "0 -0.315735 -0.505232 -0.052012 -0.218984  0.795217  0.494768  0.056680\n",
              "1 -0.331360  0.494768  0.058472 -0.018984 -0.204783  0.161435 -0.181038\n",
              "2 -0.175110  0.494768  0.043979  0.381016 -0.204783  0.161435 -0.138324\n",
              "3 -0.096985  0.494768 -0.149791 -0.218984 -0.204783 -0.171898  0.136647\n",
              "4 -0.112610  0.494768 -0.033567 -0.218984 -0.204783 -0.171898 -0.147460"
            ]
          },
          "metadata": {
            "tags": []
          },
          "execution_count": 3
        }
      ]
    },
    {
      "cell_type": "code",
      "metadata": {
        "id": "H0PVSvbzpyqh",
        "colab_type": "code",
        "colab": {
          "base_uri": "https://localhost:8080/",
          "height": 158
        },
        "outputId": "e733e550-bca2-4593-a1a1-b64e45072298"
      },
      "source": [
        "dataset.isnull().sum()"
      ],
      "execution_count": 4,
      "outputs": [
        {
          "output_type": "execute_result",
          "data": {
            "text/plain": [
              "age         0\n",
              "sex         0\n",
              "bmi         0\n",
              "children    0\n",
              "smoker      0\n",
              "region      0\n",
              "charges     0\n",
              "dtype: int64"
            ]
          },
          "metadata": {
            "tags": []
          },
          "execution_count": 4
        }
      ]
    },
    {
      "cell_type": "code",
      "metadata": {
        "id": "1Ylj9Y5-slKI",
        "colab_type": "code",
        "colab": {}
      },
      "source": [
        "x = dataset.iloc[:,:6].values\n",
        "y = dataset.iloc[:,6].values"
      ],
      "execution_count": 5,
      "outputs": []
    },
    {
      "cell_type": "code",
      "metadata": {
        "id": "yhcJGnYxtMJx",
        "colab_type": "code",
        "colab": {
          "base_uri": "https://localhost:8080/",
          "height": 246
        },
        "outputId": "3ef23ee4-1ff4-4a1b-ac9e-0676d4b6bf91"
      },
      "source": [
        "x"
      ],
      "execution_count": 6,
      "outputs": [
        {
          "output_type": "execute_result",
          "data": {
            "text/plain": [
              "array([[-0.31573477, -0.50523169, -0.05201199, -0.21898356,  0.79521674,\n",
              "         0.49476831],\n",
              "       [-0.33135977,  0.49476831,  0.05847173, -0.01898356, -0.20478326,\n",
              "         0.16143498],\n",
              "       [-0.17510977,  0.49476831,  0.04397898,  0.38101644, -0.20478326,\n",
              "         0.16143498],\n",
              "       ...,\n",
              "       [-0.33135977, -0.50523169,  0.11644275, -0.21898356, -0.20478326,\n",
              "         0.16143498],\n",
              "       [-0.28448477, -0.50523169, -0.09153768, -0.21898356, -0.20478326,\n",
              "         0.49476831],\n",
              "       [ 0.34051523, -0.50523169, -0.02999053, -0.21898356,  0.79521674,\n",
              "        -0.17189836]])"
            ]
          },
          "metadata": {
            "tags": []
          },
          "execution_count": 6
        }
      ]
    },
    {
      "cell_type": "code",
      "metadata": {
        "id": "qLSGmVdetkBp",
        "colab_type": "code",
        "colab": {
          "base_uri": "https://localhost:8080/",
          "height": 52
        },
        "outputId": "18dc1b68-fe6d-42fa-c784-3193f2ef9c93"
      },
      "source": [
        "y"
      ],
      "execution_count": 7,
      "outputs": [
        {
          "output_type": "execute_result",
          "data": {
            "text/plain": [
              "array([ 0.0566799 , -0.18103799, -0.13832368, ..., -0.18253898,\n",
              "       -0.17660972,  0.24887614])"
            ]
          },
          "metadata": {
            "tags": []
          },
          "execution_count": 7
        }
      ]
    },
    {
      "cell_type": "code",
      "metadata": {
        "id": "Kph0dm1Rtmii",
        "colab_type": "code",
        "colab": {}
      },
      "source": [
        "### Split the data into training & testing samples\n",
        "from sklearn.model_selection import train_test_split\n",
        "xtrain,xtest,ytrain,ytest = train_test_split(x,y,test_size=0.20,random_state=1)"
      ],
      "execution_count": 8,
      "outputs": []
    },
    {
      "cell_type": "code",
      "metadata": {
        "id": "bzlf5ITqtrOa",
        "colab_type": "code",
        "colab": {
          "base_uri": "https://localhost:8080/",
          "height": 246
        },
        "outputId": "45c422f1-13c8-4692-dfdf-1bdbf0b31f31"
      },
      "source": [
        "xtrain"
      ],
      "execution_count": 9,
      "outputs": [
        {
          "output_type": "execute_result",
          "data": {
            "text/plain": [
              "array([[ 0.21551523, -0.50523169, -0.07648027, -0.21898356, -0.20478326,\n",
              "        -0.17189836],\n",
              "       [ 0.21551523,  0.49476831, -0.17435341, -0.01898356, -0.20478326,\n",
              "         0.49476831],\n",
              "       [-0.33135977,  0.49476831,  0.12472432, -0.21898356, -0.20478326,\n",
              "         0.16143498],\n",
              "       ...,\n",
              "       [ 0.18426523, -0.50523169,  0.08086962,  0.18101644,  0.79521674,\n",
              "        -0.50523169],\n",
              "       [ 0.01239023, -0.50523169, -0.15891957,  0.18101644,  0.79521674,\n",
              "         0.16143498],\n",
              "       [ 0.27801523,  0.49476831, -0.05125912, -0.01898356, -0.20478326,\n",
              "         0.16143498]])"
            ]
          },
          "metadata": {
            "tags": []
          },
          "execution_count": 9
        }
      ]
    },
    {
      "cell_type": "code",
      "metadata": {
        "id": "2ISlnm_ntwy7",
        "colab_type": "code",
        "colab": {
          "base_uri": "https://localhost:8080/",
          "height": 263
        },
        "outputId": "75047a8b-6459-4387-8007-81b22b4e14ae"
      },
      "source": [
        "from keras.models import Sequential\n",
        "from keras.layers import Dense\n",
        "from keras.optimizers import SGD,Adam\n",
        "model = Sequential()\n",
        "\n",
        "model.add(Dense(12,input_shape=(6,), activation='relu'))\n",
        "model.add(Dense(6, activation='sigmoid'))\n",
        "model.add(Dense(1, activation='linear'))\n",
        "\n",
        "model.compile(Adam(lr=0.1),'mean_squared_error')\n",
        "\n",
        "model.summary()"
      ],
      "execution_count": 10,
      "outputs": [
        {
          "output_type": "stream",
          "text": [
            "Model: \"sequential\"\n",
            "_________________________________________________________________\n",
            "Layer (type)                 Output Shape              Param #   \n",
            "=================================================================\n",
            "dense (Dense)                (None, 12)                84        \n",
            "_________________________________________________________________\n",
            "dense_1 (Dense)              (None, 6)                 78        \n",
            "_________________________________________________________________\n",
            "dense_2 (Dense)              (None, 1)                 7         \n",
            "=================================================================\n",
            "Total params: 169\n",
            "Trainable params: 169\n",
            "Non-trainable params: 0\n",
            "_________________________________________________________________\n"
          ],
          "name": "stdout"
        }
      ]
    },
    {
      "cell_type": "code",
      "metadata": {
        "id": "W1XY0civuTow",
        "colab_type": "code",
        "colab": {
          "base_uri": "https://localhost:8080/",
          "height": 1000
        },
        "outputId": "be6b0442-a0c3-43c7-b177-d0c1e98c7622"
      },
      "source": [
        "model.fit(xtrain,ytrain,epochs = 100)\n",
        "y_pred = model.predict(xtest)\n"
      ],
      "execution_count": 11,
      "outputs": [
        {
          "output_type": "stream",
          "text": [
            "Epoch 1/100\n",
            "34/34 [==============================] - 0s 878us/step - loss: 0.0328\n",
            "Epoch 2/100\n",
            "34/34 [==============================] - 0s 1ms/step - loss: 0.0085\n",
            "Epoch 3/100\n",
            "34/34 [==============================] - 0s 833us/step - loss: 0.0072\n",
            "Epoch 4/100\n",
            "34/34 [==============================] - 0s 877us/step - loss: 0.0069\n",
            "Epoch 5/100\n",
            "34/34 [==============================] - 0s 813us/step - loss: 0.0070\n",
            "Epoch 6/100\n",
            "34/34 [==============================] - 0s 915us/step - loss: 0.0060\n",
            "Epoch 7/100\n",
            "34/34 [==============================] - 0s 833us/step - loss: 0.0061\n",
            "Epoch 8/100\n",
            "34/34 [==============================] - 0s 894us/step - loss: 0.0069\n",
            "Epoch 9/100\n",
            "34/34 [==============================] - 0s 958us/step - loss: 0.0059\n",
            "Epoch 10/100\n",
            "34/34 [==============================] - 0s 951us/step - loss: 0.0063\n",
            "Epoch 11/100\n",
            "34/34 [==============================] - 0s 848us/step - loss: 0.0056\n",
            "Epoch 12/100\n",
            "34/34 [==============================] - 0s 891us/step - loss: 0.0060\n",
            "Epoch 13/100\n",
            "34/34 [==============================] - 0s 1ms/step - loss: 0.0061\n",
            "Epoch 14/100\n",
            "34/34 [==============================] - 0s 819us/step - loss: 0.0064\n",
            "Epoch 15/100\n",
            "34/34 [==============================] - 0s 844us/step - loss: 0.0059\n",
            "Epoch 16/100\n",
            "34/34 [==============================] - 0s 944us/step - loss: 0.0058\n",
            "Epoch 17/100\n",
            "34/34 [==============================] - 0s 937us/step - loss: 0.0064\n",
            "Epoch 18/100\n",
            "34/34 [==============================] - 0s 882us/step - loss: 0.0056\n",
            "Epoch 19/100\n",
            "34/34 [==============================] - 0s 860us/step - loss: 0.0058\n",
            "Epoch 20/100\n",
            "34/34 [==============================] - 0s 1ms/step - loss: 0.0057\n",
            "Epoch 21/100\n",
            "34/34 [==============================] - 0s 912us/step - loss: 0.0064\n",
            "Epoch 22/100\n",
            "34/34 [==============================] - 0s 1ms/step - loss: 0.0062\n",
            "Epoch 23/100\n",
            "34/34 [==============================] - 0s 844us/step - loss: 0.0073\n",
            "Epoch 24/100\n",
            "34/34 [==============================] - 0s 890us/step - loss: 0.0055\n",
            "Epoch 25/100\n",
            "34/34 [==============================] - 0s 882us/step - loss: 0.0059\n",
            "Epoch 26/100\n",
            "34/34 [==============================] - 0s 814us/step - loss: 0.0055\n",
            "Epoch 27/100\n",
            "34/34 [==============================] - 0s 902us/step - loss: 0.0065\n",
            "Epoch 28/100\n",
            "34/34 [==============================] - 0s 921us/step - loss: 0.0058\n",
            "Epoch 29/100\n",
            "34/34 [==============================] - 0s 907us/step - loss: 0.0061\n",
            "Epoch 30/100\n",
            "34/34 [==============================] - 0s 980us/step - loss: 0.0058\n",
            "Epoch 31/100\n",
            "34/34 [==============================] - 0s 809us/step - loss: 0.0062\n",
            "Epoch 32/100\n",
            "34/34 [==============================] - 0s 851us/step - loss: 0.0068\n",
            "Epoch 33/100\n",
            "34/34 [==============================] - 0s 838us/step - loss: 0.0056\n",
            "Epoch 34/100\n",
            "34/34 [==============================] - 0s 890us/step - loss: 0.0058\n",
            "Epoch 35/100\n",
            "34/34 [==============================] - 0s 832us/step - loss: 0.0056\n",
            "Epoch 36/100\n",
            "34/34 [==============================] - 0s 807us/step - loss: 0.0058\n",
            "Epoch 37/100\n",
            "34/34 [==============================] - 0s 951us/step - loss: 0.0057\n",
            "Epoch 38/100\n",
            "34/34 [==============================] - 0s 809us/step - loss: 0.0059\n",
            "Epoch 39/100\n",
            "34/34 [==============================] - 0s 916us/step - loss: 0.0055\n",
            "Epoch 40/100\n",
            "34/34 [==============================] - 0s 1ms/step - loss: 0.0059\n",
            "Epoch 41/100\n",
            "34/34 [==============================] - 0s 938us/step - loss: 0.0055\n",
            "Epoch 42/100\n",
            "34/34 [==============================] - 0s 881us/step - loss: 0.0061\n",
            "Epoch 43/100\n",
            "34/34 [==============================] - 0s 878us/step - loss: 0.0059\n",
            "Epoch 44/100\n",
            "34/34 [==============================] - 0s 819us/step - loss: 0.0057\n",
            "Epoch 45/100\n",
            "34/34 [==============================] - 0s 878us/step - loss: 0.0058\n",
            "Epoch 46/100\n",
            "34/34 [==============================] - 0s 833us/step - loss: 0.0069\n",
            "Epoch 47/100\n",
            "34/34 [==============================] - 0s 829us/step - loss: 0.0067\n",
            "Epoch 48/100\n",
            "34/34 [==============================] - 0s 862us/step - loss: 0.0061\n",
            "Epoch 49/100\n",
            "34/34 [==============================] - 0s 879us/step - loss: 0.0069\n",
            "Epoch 50/100\n",
            "34/34 [==============================] - 0s 817us/step - loss: 0.0069\n",
            "Epoch 51/100\n",
            "34/34 [==============================] - 0s 959us/step - loss: 0.0057\n",
            "Epoch 52/100\n",
            "34/34 [==============================] - 0s 865us/step - loss: 0.0080\n",
            "Epoch 53/100\n",
            "34/34 [==============================] - 0s 849us/step - loss: 0.0073\n",
            "Epoch 54/100\n",
            "34/34 [==============================] - 0s 854us/step - loss: 0.0066\n",
            "Epoch 55/100\n",
            "34/34 [==============================] - 0s 867us/step - loss: 0.0060\n",
            "Epoch 56/100\n",
            "34/34 [==============================] - 0s 850us/step - loss: 0.0062\n",
            "Epoch 57/100\n",
            "34/34 [==============================] - 0s 829us/step - loss: 0.0067\n",
            "Epoch 58/100\n",
            "34/34 [==============================] - 0s 848us/step - loss: 0.0059\n",
            "Epoch 59/100\n",
            "34/34 [==============================] - 0s 808us/step - loss: 0.0068\n",
            "Epoch 60/100\n",
            "34/34 [==============================] - 0s 1ms/step - loss: 0.0065\n",
            "Epoch 61/100\n",
            "34/34 [==============================] - 0s 925us/step - loss: 0.0063\n",
            "Epoch 62/100\n",
            "34/34 [==============================] - 0s 923us/step - loss: 0.0063\n",
            "Epoch 63/100\n",
            "34/34 [==============================] - 0s 899us/step - loss: 0.0056\n",
            "Epoch 64/100\n",
            "34/34 [==============================] - 0s 875us/step - loss: 0.0060\n",
            "Epoch 65/100\n",
            "34/34 [==============================] - 0s 946us/step - loss: 0.0070\n",
            "Epoch 66/100\n",
            "34/34 [==============================] - 0s 903us/step - loss: 0.0069\n",
            "Epoch 67/100\n",
            "34/34 [==============================] - 0s 913us/step - loss: 0.0060\n",
            "Epoch 68/100\n",
            "34/34 [==============================] - 0s 833us/step - loss: 0.0064\n",
            "Epoch 69/100\n",
            "34/34 [==============================] - 0s 828us/step - loss: 0.0064\n",
            "Epoch 70/100\n",
            "34/34 [==============================] - 0s 885us/step - loss: 0.0063\n",
            "Epoch 71/100\n",
            "34/34 [==============================] - 0s 923us/step - loss: 0.0061\n",
            "Epoch 72/100\n",
            "34/34 [==============================] - 0s 890us/step - loss: 0.0063\n",
            "Epoch 73/100\n",
            "34/34 [==============================] - 0s 868us/step - loss: 0.0067\n",
            "Epoch 74/100\n",
            "34/34 [==============================] - 0s 841us/step - loss: 0.0058\n",
            "Epoch 75/100\n",
            "34/34 [==============================] - 0s 846us/step - loss: 0.0077\n",
            "Epoch 76/100\n",
            "34/34 [==============================] - 0s 807us/step - loss: 0.0070\n",
            "Epoch 77/100\n",
            "34/34 [==============================] - 0s 882us/step - loss: 0.0060\n",
            "Epoch 78/100\n",
            "34/34 [==============================] - 0s 890us/step - loss: 0.0057\n",
            "Epoch 79/100\n",
            "34/34 [==============================] - 0s 1ms/step - loss: 0.0056\n",
            "Epoch 80/100\n",
            "34/34 [==============================] - 0s 889us/step - loss: 0.0067\n",
            "Epoch 81/100\n",
            "34/34 [==============================] - 0s 1ms/step - loss: 0.0063\n",
            "Epoch 82/100\n",
            "34/34 [==============================] - 0s 860us/step - loss: 0.0058\n",
            "Epoch 83/100\n",
            "34/34 [==============================] - 0s 880us/step - loss: 0.0061\n",
            "Epoch 84/100\n",
            "34/34 [==============================] - 0s 910us/step - loss: 0.0057\n",
            "Epoch 85/100\n",
            "34/34 [==============================] - 0s 814us/step - loss: 0.0055\n",
            "Epoch 86/100\n",
            "34/34 [==============================] - 0s 813us/step - loss: 0.0059\n",
            "Epoch 87/100\n",
            "34/34 [==============================] - 0s 852us/step - loss: 0.0086\n",
            "Epoch 88/100\n",
            "34/34 [==============================] - 0s 1ms/step - loss: 0.0067\n",
            "Epoch 89/100\n",
            "34/34 [==============================] - 0s 914us/step - loss: 0.0063\n",
            "Epoch 90/100\n",
            "34/34 [==============================] - 0s 835us/step - loss: 0.0063\n",
            "Epoch 91/100\n",
            "34/34 [==============================] - 0s 913us/step - loss: 0.0062\n",
            "Epoch 92/100\n",
            "34/34 [==============================] - 0s 1ms/step - loss: 0.0060\n",
            "Epoch 93/100\n",
            "34/34 [==============================] - 0s 959us/step - loss: 0.0063\n",
            "Epoch 94/100\n",
            "34/34 [==============================] - 0s 938us/step - loss: 0.0061\n",
            "Epoch 95/100\n",
            "34/34 [==============================] - 0s 892us/step - loss: 0.0058\n",
            "Epoch 96/100\n",
            "34/34 [==============================] - 0s 866us/step - loss: 0.0058\n",
            "Epoch 97/100\n",
            "34/34 [==============================] - 0s 874us/step - loss: 0.0063\n",
            "Epoch 98/100\n",
            "34/34 [==============================] - 0s 869us/step - loss: 0.0068\n",
            "Epoch 99/100\n",
            "34/34 [==============================] - 0s 914us/step - loss: 0.0058\n",
            "Epoch 100/100\n",
            "34/34 [==============================] - 0s 1ms/step - loss: 0.0062\n"
          ],
          "name": "stdout"
        }
      ]
    },
    {
      "cell_type": "code",
      "metadata": {
        "id": "3MLukGw0FoV1",
        "colab_type": "code",
        "colab": {
          "base_uri": "https://localhost:8080/",
          "height": 967
        },
        "outputId": "cf4b63da-870d-4bec-e1be-688c0faa1768"
      },
      "source": [
        "ytest"
      ],
      "execution_count": 12,
      "outputs": [
        {
          "output_type": "execute_result",
          "data": {
            "text/plain": [
              "array([-0.18227873, -0.03006401, -0.07012387, -0.04530225, -0.17511788,\n",
              "        0.39949446, -0.06218745, -0.02528299, -0.15994269,  0.09830294,\n",
              "       -0.01004424, -0.02715994, -0.10870786, -0.09753393, -0.19025986,\n",
              "       -0.06746218,  0.13664717, -0.10751448,  0.23549278,  0.00301233,\n",
              "       -0.05563163,  0.43377484, -0.08222864, -0.0756769 , -0.17354361,\n",
              "       -0.1035862 , -0.07314056, -0.07819834, -0.12380949, -0.15093725,\n",
              "       -0.02503186, -0.02403267,  0.18194895,  0.32114995,  0.17109045,\n",
              "       -0.05342524,  0.36956071,  0.07325784, -0.02217346,  0.41484896,\n",
              "       -0.1398918 , -0.02393724,  0.10159821, -0.01447772, -0.13076242,\n",
              "        0.26641774,  0.22665469,  0.33560579, -0.05686287,  0.01762535,\n",
              "       -0.01117786, -0.02178226, -0.17119932, -0.06536924,  0.0612864 ,\n",
              "       -0.1454631 ,  0.43391371, -0.00981385,  0.14309645, -0.19007284,\n",
              "       -0.15530322, -0.00199286,  0.07931287, -0.16591246, -0.00829938,\n",
              "       -0.07064675, -0.04713753,  0.13990834, -0.16561247,  0.02040865,\n",
              "        0.73311374,  0.71037084, -0.18076103, -0.01239937,  0.00128081,\n",
              "        0.43537106, -0.1643609 , -0.16313679, -0.03449698, -0.04353862,\n",
              "       -0.15842714, -0.01569275, -0.0365105 , -0.17708219,  0.4054373 ,\n",
              "        0.45227567, -0.09761458,  0.51639238, -0.04546794, -0.08658035,\n",
              "        0.109211  ,  0.16992971,  0.01018341, -0.06898606, -0.18256035,\n",
              "       -0.05931869, -0.05346361, -0.01575833, -0.01622356, -0.10770088,\n",
              "       -0.03001017,  0.03994898,  0.07823052,  0.33729102,  0.21589148,\n",
              "        0.07469835, -0.18085258, -0.09141179, -0.17329313, -0.03110977,\n",
              "       -0.1388616 , -0.14565443, -0.18250444,  0.03582799, -0.01035802,\n",
              "       -0.18843352, -0.10356178,  0.01543327,  0.09763612, -0.17263258,\n",
              "       -0.06803057, -0.03972925, -0.11437262, -0.09602127,  0.47895937,\n",
              "       -0.05813656, -0.00349833,  0.09552353,  0.48025323, -0.08671865,\n",
              "        0.36125484, -0.17936728, -0.09605643,  0.39222455,  0.17770974,\n",
              "       -0.18094194, -0.18249615, -0.18250781, -0.05142485, -0.08366152,\n",
              "        0.01212246, -0.11503831,  0.08941563,  0.01636219,  0.00528374,\n",
              "       -0.04196178, -0.18113389, -0.08336004, -0.18100682, -0.10324521,\n",
              "       -0.09593398, -0.14729583,  0.31678554, -0.02181761, -0.08571782,\n",
              "       -0.11448409, -0.05184789, -0.05194729, -0.05995004, -0.17944962,\n",
              "       -0.1500079 ,  0.5693429 , -0.02075878, -0.16255708, -0.1119896 ,\n",
              "       -0.18403699,  0.39891145, -0.04444578, -0.03445557, -0.12233595,\n",
              "       -0.1273049 , -0.15231982,  0.14336153,  0.19457853, -0.1555102 ,\n",
              "       -0.10530511, -0.17019593,  0.02070254, -0.14956458, -0.11640983,\n",
              "       -0.00845882,  0.00542471, -0.06715124, -0.08812311, -0.15173571,\n",
              "        0.07803105, -0.17429302, -0.07371066, -0.09006864, -0.06347801,\n",
              "        0.01331648,  0.53315358, -0.15697281, -0.16561454, -0.0993749 ,\n",
              "       -0.06281321, -0.09450475, -0.17461888, -0.02744724, -0.07899155,\n",
              "       -0.10946559, -0.09249821, -0.01844028,  0.16140073, -0.10682975,\n",
              "       -0.18275956, -0.10459733, -0.09759539, -0.1769781 , -0.0284637 ,\n",
              "       -0.14321528,  0.15641055,  0.06049832, -0.14556114, -0.13485533,\n",
              "        0.53348603, -0.03879654,  0.35008652, -0.19027664,  0.40344913,\n",
              "       -0.16952532,  0.12428011, -0.01570932, -0.13238922, -0.18244646,\n",
              "       -0.1772108 , -0.13977292, -0.03880302,  0.05975588,  0.0096839 ,\n",
              "       -0.15196062,  0.01146087,  0.53618068, -0.10220073, -0.0184062 ,\n",
              "       -0.04791855,  0.06415738, -0.18238641, -0.07726957, -0.14420428,\n",
              "       -0.08133084, -0.17631132,  0.28774433, -0.17702312,  0.11778291,\n",
              "        0.18189331,  0.08680706, -0.074001  ,  0.07758673,  0.01474216,\n",
              "       -0.0362351 , -0.13845303, -0.017686  , -0.0424951 , -0.16266315,\n",
              "       -0.16489463,  0.3347542 ,  0.14209007, -0.18260797,  0.55271921,\n",
              "       -0.07920942, -0.09925466, -0.07887406,  0.42078231,  0.46593754,\n",
              "        0.48505604, -0.17458782, -0.12611541])"
            ]
          },
          "metadata": {
            "tags": []
          },
          "execution_count": 12
        }
      ]
    },
    {
      "cell_type": "code",
      "metadata": {
        "id": "ezzp1QTYFp3S",
        "colab_type": "code",
        "colab": {
          "base_uri": "https://localhost:8080/",
          "height": 70
        },
        "outputId": "59df227d-7e50-45dc-e0bb-9d08b2a38bf3"
      },
      "source": [
        "result = model.evaluate(xtest,ytest)\n",
        "print(result)\n",
        "accuracy_ANN = 1 - result\n",
        "print(\"Accuracy : {}\".format(accuracy_ANN))"
      ],
      "execution_count": 13,
      "outputs": [
        {
          "output_type": "stream",
          "text": [
            "9/9 [==============================] - 0s 1ms/step - loss: 0.0053\n",
            "0.005273804999887943\n",
            "Accuracy : 0.9947261950001121\n"
          ],
          "name": "stdout"
        }
      ]
    },
    {
      "cell_type": "code",
      "metadata": {
        "id": "D95IXYAYGcP-",
        "colab_type": "code",
        "colab": {}
      },
      "source": [
        ""
      ],
      "execution_count": 13,
      "outputs": []
    }
  ]
}