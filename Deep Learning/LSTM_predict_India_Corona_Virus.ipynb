{
  "nbformat": 4,
  "nbformat_minor": 0,
  "metadata": {
    "kernelspec": {
      "language": "python",
      "display_name": "Python 3",
      "name": "python3"
    },
    "language_info": {
      "pygments_lexer": "ipython3",
      "nbconvert_exporter": "python",
      "version": "3.6.4",
      "file_extension": ".py",
      "codemirror_mode": {
        "name": "ipython",
        "version": 3
      },
      "name": "python",
      "mimetype": "text/x-python"
    },
    "colab": {
      "name": "LSTM predict-India Corona Virus",
      "provenance": [],
      "collapsed_sections": [],
      "include_colab_link": true
    },
    "accelerator": "GPU"
  },
  "cells": [
    {
      "cell_type": "markdown",
      "metadata": {
        "id": "view-in-github",
        "colab_type": "text"
      },
      "source": [
        "<a href=\"https://colab.research.google.com/github/dhyan1999/Artificial-Intelligence/blob/master/Deep%20Learning/LSTM_predict_India_Corona_Virus.ipynb\" target=\"_parent\"><img src=\"https://colab.research.google.com/assets/colab-badge.svg\" alt=\"Open In Colab\"/></a>"
      ]
    },
    {
      "cell_type": "code",
      "metadata": {
        "_uuid": "8f2839f25d086af736a60e9eeb907d3b93b6e0e5",
        "_cell_guid": "b1076dfc-b9ad-4769-8c92-a6c4dae69d19",
        "trusted": true,
        "id": "6vNoXz6xvHTh"
      },
      "source": [
        "import numpy as np\n",
        "import pandas as pd \n",
        "import matplotlib.pyplot as plt\n",
        "import os\n",
        "for dirname, _, filenames in os.walk('/kaggle/input'):\n",
        "    for filename in filenames:\n",
        "        print(os.path.join(dirname, filename))\n"
      ],
      "execution_count": null,
      "outputs": []
    },
    {
      "cell_type": "code",
      "metadata": {
        "_uuid": "d629ff2d2480ee46fbb7e2d37f6b5fab8052498a",
        "_cell_guid": "79c7e3d0-c299-4dcb-8224-4455121ee9b0",
        "trusted": true,
        "id": "RAyrkgaZvHTo"
      },
      "source": [
        "df_confirmed = pd.read_csv('/content/time_series_covid19_confirmed_global.csv')"
      ],
      "execution_count": null,
      "outputs": []
    },
    {
      "cell_type": "code",
      "metadata": {
        "trusted": true,
        "colab": {
          "base_uri": "https://localhost:8080/",
          "height": 129
        },
        "id": "QDKGzNSOvHTp",
        "outputId": "5e085198-aaad-4ad8-c5ac-f4f85c12c954"
      },
      "source": [
        "country = \"India\"\n",
        "df_confirmed1 = df_confirmed[df_confirmed[\"Country/Region\"] == country]\n",
        "\n",
        "df_confirmed1"
      ],
      "execution_count": null,
      "outputs": [
        {
          "output_type": "execute_result",
          "data": {
            "text/html": [
              "<div>\n",
              "<style scoped>\n",
              "    .dataframe tbody tr th:only-of-type {\n",
              "        vertical-align: middle;\n",
              "    }\n",
              "\n",
              "    .dataframe tbody tr th {\n",
              "        vertical-align: top;\n",
              "    }\n",
              "\n",
              "    .dataframe thead th {\n",
              "        text-align: right;\n",
              "    }\n",
              "</style>\n",
              "<table border=\"1\" class=\"dataframe\">\n",
              "  <thead>\n",
              "    <tr style=\"text-align: right;\">\n",
              "      <th></th>\n",
              "      <th>Province/State</th>\n",
              "      <th>Country/Region</th>\n",
              "      <th>Lat</th>\n",
              "      <th>Long</th>\n",
              "      <th>1/22/20</th>\n",
              "      <th>1/23/20</th>\n",
              "      <th>1/24/20</th>\n",
              "      <th>1/25/20</th>\n",
              "      <th>1/26/20</th>\n",
              "      <th>1/27/20</th>\n",
              "      <th>1/28/20</th>\n",
              "      <th>1/29/20</th>\n",
              "      <th>1/30/20</th>\n",
              "      <th>1/31/20</th>\n",
              "      <th>2/1/20</th>\n",
              "      <th>2/2/20</th>\n",
              "      <th>2/3/20</th>\n",
              "      <th>2/4/20</th>\n",
              "      <th>2/5/20</th>\n",
              "      <th>2/6/20</th>\n",
              "      <th>2/7/20</th>\n",
              "      <th>2/8/20</th>\n",
              "      <th>2/9/20</th>\n",
              "      <th>2/10/20</th>\n",
              "      <th>2/11/20</th>\n",
              "      <th>2/12/20</th>\n",
              "      <th>2/13/20</th>\n",
              "      <th>2/14/20</th>\n",
              "      <th>2/15/20</th>\n",
              "      <th>2/16/20</th>\n",
              "      <th>2/17/20</th>\n",
              "      <th>2/18/20</th>\n",
              "      <th>2/19/20</th>\n",
              "      <th>2/20/20</th>\n",
              "      <th>2/21/20</th>\n",
              "      <th>2/22/20</th>\n",
              "      <th>2/23/20</th>\n",
              "      <th>2/24/20</th>\n",
              "      <th>2/25/20</th>\n",
              "      <th>2/26/20</th>\n",
              "      <th>...</th>\n",
              "      <th>3/2/21</th>\n",
              "      <th>3/3/21</th>\n",
              "      <th>3/4/21</th>\n",
              "      <th>3/5/21</th>\n",
              "      <th>3/6/21</th>\n",
              "      <th>3/7/21</th>\n",
              "      <th>3/8/21</th>\n",
              "      <th>3/9/21</th>\n",
              "      <th>3/10/21</th>\n",
              "      <th>3/11/21</th>\n",
              "      <th>3/12/21</th>\n",
              "      <th>3/13/21</th>\n",
              "      <th>3/14/21</th>\n",
              "      <th>3/15/21</th>\n",
              "      <th>3/16/21</th>\n",
              "      <th>3/17/21</th>\n",
              "      <th>3/18/21</th>\n",
              "      <th>3/19/21</th>\n",
              "      <th>3/20/21</th>\n",
              "      <th>3/21/21</th>\n",
              "      <th>3/22/21</th>\n",
              "      <th>3/23/21</th>\n",
              "      <th>3/24/21</th>\n",
              "      <th>3/25/21</th>\n",
              "      <th>3/26/21</th>\n",
              "      <th>3/27/21</th>\n",
              "      <th>3/28/21</th>\n",
              "      <th>3/29/21</th>\n",
              "      <th>3/30/21</th>\n",
              "      <th>3/31/21</th>\n",
              "      <th>4/1/21</th>\n",
              "      <th>4/2/21</th>\n",
              "      <th>4/3/21</th>\n",
              "      <th>4/4/21</th>\n",
              "      <th>4/5/21</th>\n",
              "      <th>4/6/21</th>\n",
              "      <th>4/7/21</th>\n",
              "      <th>4/8/21</th>\n",
              "      <th>4/9/21</th>\n",
              "      <th>4/10/21</th>\n",
              "    </tr>\n",
              "  </thead>\n",
              "  <tbody>\n",
              "    <tr>\n",
              "      <th>146</th>\n",
              "      <td>NaN</td>\n",
              "      <td>India</td>\n",
              "      <td>20.593684</td>\n",
              "      <td>78.96288</td>\n",
              "      <td>0</td>\n",
              "      <td>0</td>\n",
              "      <td>0</td>\n",
              "      <td>0</td>\n",
              "      <td>0</td>\n",
              "      <td>0</td>\n",
              "      <td>0</td>\n",
              "      <td>0</td>\n",
              "      <td>1</td>\n",
              "      <td>1</td>\n",
              "      <td>1</td>\n",
              "      <td>2</td>\n",
              "      <td>3</td>\n",
              "      <td>3</td>\n",
              "      <td>3</td>\n",
              "      <td>3</td>\n",
              "      <td>3</td>\n",
              "      <td>3</td>\n",
              "      <td>3</td>\n",
              "      <td>3</td>\n",
              "      <td>3</td>\n",
              "      <td>3</td>\n",
              "      <td>3</td>\n",
              "      <td>3</td>\n",
              "      <td>3</td>\n",
              "      <td>3</td>\n",
              "      <td>3</td>\n",
              "      <td>3</td>\n",
              "      <td>3</td>\n",
              "      <td>3</td>\n",
              "      <td>3</td>\n",
              "      <td>3</td>\n",
              "      <td>3</td>\n",
              "      <td>3</td>\n",
              "      <td>3</td>\n",
              "      <td>3</td>\n",
              "      <td>...</td>\n",
              "      <td>11139516</td>\n",
              "      <td>11156923</td>\n",
              "      <td>11173761</td>\n",
              "      <td>11192045</td>\n",
              "      <td>11210799</td>\n",
              "      <td>11229398</td>\n",
              "      <td>11244786</td>\n",
              "      <td>11262707</td>\n",
              "      <td>11285561</td>\n",
              "      <td>11308846</td>\n",
              "      <td>11333728</td>\n",
              "      <td>11359048</td>\n",
              "      <td>11385339</td>\n",
              "      <td>11409831</td>\n",
              "      <td>11438734</td>\n",
              "      <td>11474605</td>\n",
              "      <td>11514331</td>\n",
              "      <td>11555284</td>\n",
              "      <td>11599130</td>\n",
              "      <td>11646081</td>\n",
              "      <td>11686796</td>\n",
              "      <td>11734058</td>\n",
              "      <td>11787534</td>\n",
              "      <td>11846652</td>\n",
              "      <td>11908910</td>\n",
              "      <td>11971624</td>\n",
              "      <td>12039644</td>\n",
              "      <td>12095855</td>\n",
              "      <td>12149335</td>\n",
              "      <td>12221665</td>\n",
              "      <td>12303131</td>\n",
              "      <td>12392260</td>\n",
              "      <td>12485509</td>\n",
              "      <td>12589067</td>\n",
              "      <td>12686049</td>\n",
              "      <td>12801785</td>\n",
              "      <td>12928574</td>\n",
              "      <td>13060542</td>\n",
              "      <td>13205926</td>\n",
              "      <td>13358805</td>\n",
              "    </tr>\n",
              "  </tbody>\n",
              "</table>\n",
              "<p>1 rows × 449 columns</p>\n",
              "</div>"
            ],
            "text/plain": [
              "    Province/State Country/Region        Lat  ...    4/8/21    4/9/21   4/10/21\n",
              "146            NaN          India  20.593684  ...  13060542  13205926  13358805\n",
              "\n",
              "[1 rows x 449 columns]"
            ]
          },
          "metadata": {
            "tags": []
          },
          "execution_count": 4
        }
      ]
    },
    {
      "cell_type": "code",
      "metadata": {
        "trusted": true,
        "colab": {
          "base_uri": "https://localhost:8080/",
          "height": 419
        },
        "id": "QbbvTm1VvHTp",
        "outputId": "13577b67-de30-45c7-8ce7-51c6c429ba05"
      },
      "source": [
        "df_confirmed2 = pd.DataFrame(df_confirmed1[df_confirmed1.columns[4:]].sum(),columns=[\"confirmed\"])\n",
        "df_confirmed2.index = pd.to_datetime(df_confirmed2.index,format='%m/%d/%y')\n",
        "df_confirmed2"
      ],
      "execution_count": null,
      "outputs": [
        {
          "output_type": "execute_result",
          "data": {
            "text/html": [
              "<div>\n",
              "<style scoped>\n",
              "    .dataframe tbody tr th:only-of-type {\n",
              "        vertical-align: middle;\n",
              "    }\n",
              "\n",
              "    .dataframe tbody tr th {\n",
              "        vertical-align: top;\n",
              "    }\n",
              "\n",
              "    .dataframe thead th {\n",
              "        text-align: right;\n",
              "    }\n",
              "</style>\n",
              "<table border=\"1\" class=\"dataframe\">\n",
              "  <thead>\n",
              "    <tr style=\"text-align: right;\">\n",
              "      <th></th>\n",
              "      <th>confirmed</th>\n",
              "    </tr>\n",
              "  </thead>\n",
              "  <tbody>\n",
              "    <tr>\n",
              "      <th>2020-01-22</th>\n",
              "      <td>0</td>\n",
              "    </tr>\n",
              "    <tr>\n",
              "      <th>2020-01-23</th>\n",
              "      <td>0</td>\n",
              "    </tr>\n",
              "    <tr>\n",
              "      <th>2020-01-24</th>\n",
              "      <td>0</td>\n",
              "    </tr>\n",
              "    <tr>\n",
              "      <th>2020-01-25</th>\n",
              "      <td>0</td>\n",
              "    </tr>\n",
              "    <tr>\n",
              "      <th>2020-01-26</th>\n",
              "      <td>0</td>\n",
              "    </tr>\n",
              "    <tr>\n",
              "      <th>...</th>\n",
              "      <td>...</td>\n",
              "    </tr>\n",
              "    <tr>\n",
              "      <th>2021-04-06</th>\n",
              "      <td>12801785</td>\n",
              "    </tr>\n",
              "    <tr>\n",
              "      <th>2021-04-07</th>\n",
              "      <td>12928574</td>\n",
              "    </tr>\n",
              "    <tr>\n",
              "      <th>2021-04-08</th>\n",
              "      <td>13060542</td>\n",
              "    </tr>\n",
              "    <tr>\n",
              "      <th>2021-04-09</th>\n",
              "      <td>13205926</td>\n",
              "    </tr>\n",
              "    <tr>\n",
              "      <th>2021-04-10</th>\n",
              "      <td>13358805</td>\n",
              "    </tr>\n",
              "  </tbody>\n",
              "</table>\n",
              "<p>445 rows × 1 columns</p>\n",
              "</div>"
            ],
            "text/plain": [
              "            confirmed\n",
              "2020-01-22          0\n",
              "2020-01-23          0\n",
              "2020-01-24          0\n",
              "2020-01-25          0\n",
              "2020-01-26          0\n",
              "...               ...\n",
              "2021-04-06   12801785\n",
              "2021-04-07   12928574\n",
              "2021-04-08   13060542\n",
              "2021-04-09   13205926\n",
              "2021-04-10   13358805\n",
              "\n",
              "[445 rows x 1 columns]"
            ]
          },
          "metadata": {
            "tags": []
          },
          "execution_count": 5
        }
      ]
    },
    {
      "cell_type": "code",
      "metadata": {
        "trusted": true,
        "colab": {
          "base_uri": "https://localhost:8080/",
          "height": 689
        },
        "id": "AmQplYd1vHTp",
        "outputId": "de0685bc-7104-4beb-97cc-c360d672d5ef"
      },
      "source": [
        "df_confirmed2.plot(figsize=(10,5),title=\"India\")\n",
        "df_new = df_confirmed2[[\"confirmed\"]]\n",
        "df_new.tail(10)"
      ],
      "execution_count": null,
      "outputs": [
        {
          "output_type": "execute_result",
          "data": {
            "text/html": [
              "<div>\n",
              "<style scoped>\n",
              "    .dataframe tbody tr th:only-of-type {\n",
              "        vertical-align: middle;\n",
              "    }\n",
              "\n",
              "    .dataframe tbody tr th {\n",
              "        vertical-align: top;\n",
              "    }\n",
              "\n",
              "    .dataframe thead th {\n",
              "        text-align: right;\n",
              "    }\n",
              "</style>\n",
              "<table border=\"1\" class=\"dataframe\">\n",
              "  <thead>\n",
              "    <tr style=\"text-align: right;\">\n",
              "      <th></th>\n",
              "      <th>confirmed</th>\n",
              "    </tr>\n",
              "  </thead>\n",
              "  <tbody>\n",
              "    <tr>\n",
              "      <th>2021-04-01</th>\n",
              "      <td>12303131</td>\n",
              "    </tr>\n",
              "    <tr>\n",
              "      <th>2021-04-02</th>\n",
              "      <td>12392260</td>\n",
              "    </tr>\n",
              "    <tr>\n",
              "      <th>2021-04-03</th>\n",
              "      <td>12485509</td>\n",
              "    </tr>\n",
              "    <tr>\n",
              "      <th>2021-04-04</th>\n",
              "      <td>12589067</td>\n",
              "    </tr>\n",
              "    <tr>\n",
              "      <th>2021-04-05</th>\n",
              "      <td>12686049</td>\n",
              "    </tr>\n",
              "    <tr>\n",
              "      <th>2021-04-06</th>\n",
              "      <td>12801785</td>\n",
              "    </tr>\n",
              "    <tr>\n",
              "      <th>2021-04-07</th>\n",
              "      <td>12928574</td>\n",
              "    </tr>\n",
              "    <tr>\n",
              "      <th>2021-04-08</th>\n",
              "      <td>13060542</td>\n",
              "    </tr>\n",
              "    <tr>\n",
              "      <th>2021-04-09</th>\n",
              "      <td>13205926</td>\n",
              "    </tr>\n",
              "    <tr>\n",
              "      <th>2021-04-10</th>\n",
              "      <td>13358805</td>\n",
              "    </tr>\n",
              "  </tbody>\n",
              "</table>\n",
              "</div>"
            ],
            "text/plain": [
              "            confirmed\n",
              "2021-04-01   12303131\n",
              "2021-04-02   12392260\n",
              "2021-04-03   12485509\n",
              "2021-04-04   12589067\n",
              "2021-04-05   12686049\n",
              "2021-04-06   12801785\n",
              "2021-04-07   12928574\n",
              "2021-04-08   13060542\n",
              "2021-04-09   13205926\n",
              "2021-04-10   13358805"
            ]
          },
          "metadata": {
            "tags": []
          },
          "execution_count": 6
        },
        {
          "output_type": "display_data",
          "data": {
            "image/png": "[encoded data removed]",
            "text/plain": [
              "<Figure size 720x360 with 1 Axes>"
            ]
          },
          "metadata": {
            "tags": [],
            "needs_background": "light"
          }
        }
      ]
    },
    {
      "cell_type": "code",
      "metadata": {
        "trusted": true,
        "colab": {
          "base_uri": "https://localhost:8080/"
        },
        "id": "cuj_CGKzvHTq",
        "outputId": "12c51a0f-2834-43f2-afcc-13eb2c4a087b"
      },
      "source": [
        "len(df_new)\n",
        "x = len(df_new) - 5\n",
        "x"
      ],
      "execution_count": null,
      "outputs": [
        {
          "output_type": "execute_result",
          "data": {
            "text/plain": [
              "440"
            ]
          },
          "metadata": {
            "tags": []
          },
          "execution_count": 7
        }
      ]
    },
    {
      "cell_type": "code",
      "metadata": {
        "trusted": true,
        "colab": {
          "base_uri": "https://localhost:8080/",
          "height": 419
        },
        "id": "H1JnNBoWvHTq",
        "outputId": "2c9e0071-549c-4f86-b563-afc55b5218cd"
      },
      "source": [
        "train=df_new.iloc[:x]\n",
        "test = df_new.iloc[x:]\n",
        "train"
      ],
      "execution_count": null,
      "outputs": [
        {
          "output_type": "execute_result",
          "data": {
            "text/html": [
              "<div>\n",
              "<style scoped>\n",
              "    .dataframe tbody tr th:only-of-type {\n",
              "        vertical-align: middle;\n",
              "    }\n",
              "\n",
              "    .dataframe tbody tr th {\n",
              "        vertical-align: top;\n",
              "    }\n",
              "\n",
              "    .dataframe thead th {\n",
              "        text-align: right;\n",
              "    }\n",
              "</style>\n",
              "<table border=\"1\" class=\"dataframe\">\n",
              "  <thead>\n",
              "    <tr style=\"text-align: right;\">\n",
              "      <th></th>\n",
              "      <th>confirmed</th>\n",
              "    </tr>\n",
              "  </thead>\n",
              "  <tbody>\n",
              "    <tr>\n",
              "      <th>2020-01-22</th>\n",
              "      <td>0</td>\n",
              "    </tr>\n",
              "    <tr>\n",
              "      <th>2020-01-23</th>\n",
              "      <td>0</td>\n",
              "    </tr>\n",
              "    <tr>\n",
              "      <th>2020-01-24</th>\n",
              "      <td>0</td>\n",
              "    </tr>\n",
              "    <tr>\n",
              "      <th>2020-01-25</th>\n",
              "      <td>0</td>\n",
              "    </tr>\n",
              "    <tr>\n",
              "      <th>2020-01-26</th>\n",
              "      <td>0</td>\n",
              "    </tr>\n",
              "    <tr>\n",
              "      <th>...</th>\n",
              "      <td>...</td>\n",
              "    </tr>\n",
              "    <tr>\n",
              "      <th>2021-04-01</th>\n",
              "      <td>12303131</td>\n",
              "    </tr>\n",
              "    <tr>\n",
              "      <th>2021-04-02</th>\n",
              "      <td>12392260</td>\n",
              "    </tr>\n",
              "    <tr>\n",
              "      <th>2021-04-03</th>\n",
              "      <td>12485509</td>\n",
              "    </tr>\n",
              "    <tr>\n",
              "      <th>2021-04-04</th>\n",
              "      <td>12589067</td>\n",
              "    </tr>\n",
              "    <tr>\n",
              "      <th>2021-04-05</th>\n",
              "      <td>12686049</td>\n",
              "    </tr>\n",
              "  </tbody>\n",
              "</table>\n",
              "<p>440 rows × 1 columns</p>\n",
              "</div>"
            ],
            "text/plain": [
              "            confirmed\n",
              "2020-01-22          0\n",
              "2020-01-23          0\n",
              "2020-01-24          0\n",
              "2020-01-25          0\n",
              "2020-01-26          0\n",
              "...               ...\n",
              "2021-04-01   12303131\n",
              "2021-04-02   12392260\n",
              "2021-04-03   12485509\n",
              "2021-04-04   12589067\n",
              "2021-04-05   12686049\n",
              "\n",
              "[440 rows x 1 columns]"
            ]
          },
          "metadata": {
            "tags": []
          },
          "execution_count": 8
        }
      ]
    },
    {
      "cell_type": "code",
      "metadata": {
        "trusted": true,
        "colab": {
          "base_uri": "https://localhost:8080/"
        },
        "id": "ue2VR20bvHTq",
        "outputId": "2a776dd8-a2fc-4139-b018-87eab1a29209"
      },
      "source": [
        "from sklearn.preprocessing import MinMaxScaler\n",
        "scaler = MinMaxScaler()\n",
        "scaler.fit(train)\n",
        "scaled_train = scaler.transform(train)\n",
        "scaled_test = scaler.transform(test)\n",
        "scaled_train.shape"
      ],
      "execution_count": null,
      "outputs": [
        {
          "output_type": "execute_result",
          "data": {
            "text/plain": [
              "(440, 1)"
            ]
          },
          "metadata": {
            "tags": []
          },
          "execution_count": 9
        }
      ]
    },
    {
      "cell_type": "code",
      "metadata": {
        "trusted": true,
        "colab": {
          "base_uri": "https://localhost:8080/"
        },
        "id": "ylxl2xGxvHTq",
        "outputId": "d663c823-04f6-4f96-f123-53c48b26e402"
      },
      "source": [
        "from keras.preprocessing.sequence import TimeseriesGenerator\n",
        "n_input = 5  ## number of steps\n",
        "n_features = 1 \n",
        "generator = TimeseriesGenerator(scaled_train,scaled_train,length = n_input,batch_size=1)\n",
        "len(generator)"
      ],
      "execution_count": null,
      "outputs": [
        {
          "output_type": "execute_result",
          "data": {
            "text/plain": [
              "435"
            ]
          },
          "metadata": {
            "tags": []
          },
          "execution_count": 10
        }
      ]
    },
    {
      "cell_type": "code",
      "metadata": {
        "trusted": true,
        "colab": {
          "base_uri": "https://localhost:8080/"
        },
        "id": "9WBw35YVvHTr",
        "outputId": "5dec9fb3-d976-4dfd-933e-0fd5ebab8387"
      },
      "source": [
        "x,y = generator[75]\n",
        "x,y\n"
      ],
      "execution_count": null,
      "outputs": [
        {
          "output_type": "execute_result",
          "data": {
            "text/plain": [
              "(array([[[0.00037663],\n",
              "         [0.00041865],\n",
              "         [0.00046634],\n",
              "         [0.00053011],\n",
              "         [0.00059893]]]), array([[0.00066577]]))"
            ]
          },
          "metadata": {
            "tags": []
          },
          "execution_count": 11
        }
      ]
    },
    {
      "cell_type": "code",
      "metadata": {
        "trusted": true,
        "colab": {
          "base_uri": "https://localhost:8080/"
        },
        "id": "fqeV0wK_vHTr",
        "outputId": "3fc8d0c8-3c36-4263-d107-37f710101cec"
      },
      "source": [
        "from keras.models import Sequential\n",
        "from keras.layers import Dense, LSTM, Dropout, Activation\n",
        "model = Sequential()\n",
        "model.add(LSTM(150,activation=\"relu\",input_shape=(n_input,n_features)))\n",
        "model.add(Dense(75, activation='relu'))\n",
        "model.add(Dense(units=1))\n",
        "model.compile(optimizer=\"adam\",loss=\"mse\")\n",
        "model.summary()"
      ],
      "execution_count": null,
      "outputs": [
        {
          "output_type": "stream",
          "text": [
            "WARNING:tensorflow:Layer lstm will not use cuDNN kernel since it doesn't meet the cuDNN kernel criteria. It will use generic GPU kernel as fallback when running on GPU\n",
            "Model: \"sequential\"\n",
            "_________________________________________________________________\n",
            "Layer (type)                 Output Shape              Param #   \n",
            "=================================================================\n",
            "lstm (LSTM)                  (None, 150)               91200     \n",
            "_________________________________________________________________\n",
            "dense (Dense)                (None, 75)                11325     \n",
            "_________________________________________________________________\n",
            "dense_1 (Dense)              (None, 1)                 76        \n",
            "=================================================================\n",
            "Total params: 102,601\n",
            "Trainable params: 102,601\n",
            "Non-trainable params: 0\n",
            "_________________________________________________________________\n"
          ],
          "name": "stdout"
        }
      ]
    },
    {
      "cell_type": "code",
      "metadata": {
        "trusted": true,
        "colab": {
          "base_uri": "https://localhost:8080/"
        },
        "id": "wf0d6Wl8vHTr",
        "outputId": "a180c9a2-0be3-469f-821e-d3dbac0b9d5a"
      },
      "source": [
        "validation_set = np.append(scaled_train[76],scaled_test)\n",
        "validation_set=validation_set.reshape(6,1)\n",
        "validation_set"
      ],
      "execution_count": null,
      "outputs": [
        {
          "output_type": "execute_result",
          "data": {
            "text/plain": [
              "array([[4.18648864e-04],\n",
              "       [1.00912309e+00],\n",
              "       [1.01911746e+00],\n",
              "       [1.02952007e+00],\n",
              "       [1.04098021e+00],\n",
              "       [1.05303117e+00]])"
            ]
          },
          "metadata": {
            "tags": []
          },
          "execution_count": 13
        }
      ]
    },
    {
      "cell_type": "code",
      "metadata": {
        "trusted": true,
        "id": "TACgnIp5vHTr"
      },
      "source": [
        "n_input = 5\n",
        "n_features = 1\n",
        "validation_gen = TimeseriesGenerator(validation_set,validation_set,length=5,batch_size=1)"
      ],
      "execution_count": null,
      "outputs": []
    },
    {
      "cell_type": "code",
      "metadata": {
        "trusted": true,
        "id": "Hbw2AnDhvHTs"
      },
      "source": [
        "from tensorflow.keras.callbacks import EarlyStopping\n",
        "early_stop = EarlyStopping(monitor='val_loss',patience=20,restore_best_weights=True)"
      ],
      "execution_count": null,
      "outputs": []
    },
    {
      "cell_type": "code",
      "metadata": {
        "trusted": true,
        "colab": {
          "base_uri": "https://localhost:8080/"
        },
        "id": "MkkFRE8FvHTs",
        "outputId": "13f0e89a-896e-4b09-cf86-5a1e3ba8c0bc"
      },
      "source": [
        "model.fit_generator(generator,validation_data=validation_gen,epochs=100,callbacks=[early_stop],steps_per_epoch=10)"
      ],
      "execution_count": null,
      "outputs": [
        {
          "output_type": "stream",
          "text": [
            "/usr/local/lib/python3.7/dist-packages/tensorflow/python/keras/engine/training.py:1844: UserWarning: `Model.fit_generator` is deprecated and will be removed in a future version. Please use `Model.fit`, which supports generators.\n",
            "  warnings.warn('`Model.fit_generator` is deprecated and '\n"
          ],
          "name": "stderr"
        },
        {
          "output_type": "stream",
          "text": [
            "Epoch 1/100\n",
            "10/10 [==============================] - 4s 67ms/step - loss: 0.2123 - val_loss: 0.8615\n",
            "Epoch 2/100\n",
            "10/10 [==============================] - 0s 14ms/step - loss: 0.1500 - val_loss: 0.5793\n",
            "Epoch 3/100\n",
            "10/10 [==============================] - 0s 15ms/step - loss: 0.0750 - val_loss: 0.3053\n",
            "Epoch 4/100\n",
            "10/10 [==============================] - 0s 16ms/step - loss: 0.0497 - val_loss: 0.0385\n",
            "Epoch 5/100\n",
            "10/10 [==============================] - 0s 14ms/step - loss: 0.0223 - val_loss: 0.0609\n",
            "Epoch 6/100\n",
            "10/10 [==============================] - 0s 15ms/step - loss: 0.0048 - val_loss: 0.0412\n",
            "Epoch 7/100\n",
            "10/10 [==============================] - 0s 15ms/step - loss: 0.0025 - val_loss: 0.0278\n",
            "Epoch 8/100\n",
            "10/10 [==============================] - 0s 14ms/step - loss: 7.9236e-04 - val_loss: 0.0476\n",
            "Epoch 9/100\n",
            "10/10 [==============================] - 0s 14ms/step - loss: 4.5811e-04 - val_loss: 0.0485\n",
            "Epoch 10/100\n",
            "10/10 [==============================] - 0s 15ms/step - loss: 5.1120e-04 - val_loss: 0.0554\n",
            "Epoch 11/100\n",
            "10/10 [==============================] - 0s 14ms/step - loss: 5.5783e-05 - val_loss: 0.0486\n",
            "Epoch 12/100\n",
            "10/10 [==============================] - 0s 14ms/step - loss: 9.4692e-05 - val_loss: 0.0523\n",
            "Epoch 13/100\n",
            "10/10 [==============================] - 0s 14ms/step - loss: 3.3970e-05 - val_loss: 0.0520\n",
            "Epoch 14/100\n",
            "10/10 [==============================] - 0s 14ms/step - loss: 1.8731e-05 - val_loss: 0.0519\n",
            "Epoch 15/100\n",
            "10/10 [==============================] - 0s 14ms/step - loss: 3.4920e-05 - val_loss: 0.0517\n",
            "Epoch 16/100\n",
            "10/10 [==============================] - 0s 15ms/step - loss: 1.7414e-05 - val_loss: 0.0513\n",
            "Epoch 17/100\n",
            "10/10 [==============================] - 0s 17ms/step - loss: 1.9990e-05 - val_loss: 0.0521\n",
            "Epoch 18/100\n",
            "10/10 [==============================] - 0s 14ms/step - loss: 1.3805e-05 - val_loss: 0.0533\n",
            "Epoch 19/100\n",
            "10/10 [==============================] - 0s 14ms/step - loss: 7.3870e-06 - val_loss: 0.0523\n",
            "Epoch 20/100\n",
            "10/10 [==============================] - 0s 15ms/step - loss: 1.1762e-05 - val_loss: 0.0529\n",
            "Epoch 21/100\n",
            "10/10 [==============================] - 0s 14ms/step - loss: 1.6584e-06 - val_loss: 0.0529\n",
            "Epoch 22/100\n",
            "10/10 [==============================] - 0s 14ms/step - loss: 9.4170e-06 - val_loss: 0.0529\n",
            "Epoch 23/100\n",
            "10/10 [==============================] - 0s 14ms/step - loss: 1.0213e-05 - val_loss: 0.0516\n",
            "Epoch 24/100\n",
            "10/10 [==============================] - 0s 14ms/step - loss: 2.7433e-05 - val_loss: 0.0519\n",
            "Epoch 25/100\n",
            "10/10 [==============================] - 0s 16ms/step - loss: 4.6907e-05 - val_loss: 0.0525\n",
            "Epoch 26/100\n",
            "10/10 [==============================] - 0s 14ms/step - loss: 8.3629e-06 - val_loss: 0.0511\n",
            "Epoch 27/100\n",
            "10/10 [==============================] - 0s 15ms/step - loss: 1.8974e-05 - val_loss: 0.0570\n"
          ],
          "name": "stdout"
        },
        {
          "output_type": "execute_result",
          "data": {
            "text/plain": [
              "<tensorflow.python.keras.callbacks.History at 0x7fe0e272da90>"
            ]
          },
          "metadata": {
            "tags": []
          },
          "execution_count": 16
        }
      ]
    },
    {
      "cell_type": "code",
      "metadata": {
        "trusted": true,
        "colab": {
          "base_uri": "https://localhost:8080/",
          "height": 298
        },
        "id": "Y0BuVEzWvHTs",
        "outputId": "63608f5f-9ac5-465d-dc2e-e77fa3f19c22"
      },
      "source": [
        "pd.DataFrame(model.history.history).plot(title=\"loss vs epochs curve\")"
      ],
      "execution_count": null,
      "outputs": [
        {
          "output_type": "execute_result",
          "data": {
            "text/plain": [
              "<matplotlib.axes._subplots.AxesSubplot at 0x7fe1308752d0>"
            ]
          },
          "metadata": {
            "tags": []
          },
          "execution_count": 17
        },
        {
          "output_type": "display_data",
          "data": {
            "image/png": "[encoded data removed]",
            "text/plain": [
              "<Figure size 432x288 with 1 Axes>"
            ]
          },
          "metadata": {
            "tags": [],
            "needs_background": "light"
          }
        }
      ]
    },
    {
      "cell_type": "code",
      "metadata": {
        "trusted": true,
        "colab": {
          "base_uri": "https://localhost:8080/",
          "height": 298
        },
        "id": "8ypR80aGvHTs",
        "outputId": "16e00486-b4f9-484a-c60b-7df6f5fd5ead"
      },
      "source": [
        "myloss = model.history.history[\"val_loss\"]\n",
        "plt.title(\"validation loss vs epochs\")\n",
        "plt.plot(range(len(myloss)),myloss)"
      ],
      "execution_count": null,
      "outputs": [
        {
          "output_type": "execute_result",
          "data": {
            "text/plain": [
              "[<matplotlib.lines.Line2D at 0x7fe0e2031190>]"
            ]
          },
          "metadata": {
            "tags": []
          },
          "execution_count": 18
        },
        {
          "output_type": "display_data",
          "data": {
            "image/png": "[encoded data removed]",
            "text/plain": [
              "<Figure size 432x288 with 1 Axes>"
            ]
          },
          "metadata": {
            "tags": [],
            "needs_background": "light"
          }
        }
      ]
    },
    {
      "cell_type": "markdown",
      "metadata": {
        "id": "eZAJ47XqvHTs"
      },
      "source": [
        "Forecast"
      ]
    },
    {
      "cell_type": "code",
      "metadata": {
        "trusted": true,
        "id": "2vyJeK57vHTt"
      },
      "source": [
        "##Forecast\n",
        "test_prediction = []\n",
        "first_eval_batch = scaled_train[-n_input:]\n",
        "current_batch = first_eval_batch.reshape(1,n_input,n_features)"
      ],
      "execution_count": null,
      "outputs": []
    },
    {
      "cell_type": "code",
      "metadata": {
        "trusted": true,
        "id": "EDMRaEjXvHTt"
      },
      "source": [
        "for i in range(len(test)+7):\n",
        "    current_pred = model.predict(current_batch)[0]\n",
        "    test_prediction.append(current_pred)\n",
        "    current_batch = np.append(current_batch[:,1:,:],[[current_pred]],axis=1)"
      ],
      "execution_count": null,
      "outputs": []
    },
    {
      "cell_type": "code",
      "metadata": {
        "trusted": true,
        "colab": {
          "base_uri": "https://localhost:8080/"
        },
        "id": "2a6jp6a8vHTt",
        "outputId": "7274bc0e-71b8-40dc-c563-142188450b58"
      },
      "source": [
        "true_prediction = scaler.inverse_transform(test_prediction)\n",
        "true_prediction[:,0]"
      ],
      "execution_count": null,
      "outputs": [
        {
          "output_type": "execute_result",
          "data": {
            "text/plain": [
              "array([13660951.41216409, 13965589.6067977 , 14335581.62503767,\n",
              "       14753216.98144484, 15234282.52236021, 15808473.6702143 ,\n",
              "       16302138.13984573, 16844307.9557308 , 17430304.07748449,\n",
              "       18065569.25441051, 18747342.03604245, 19465145.24339283])"
            ]
          },
          "metadata": {
            "tags": []
          },
          "execution_count": 21
        }
      ]
    },
    {
      "cell_type": "code",
      "metadata": {
        "trusted": true,
        "colab": {
          "base_uri": "https://localhost:8080/"
        },
        "id": "rT_ohaALvHTt",
        "outputId": "61a31a0a-1e94-4efb-c9dd-54ef4ed61ef9"
      },
      "source": [
        "time_series_array = test.index\n",
        "for k in range(0,7):\n",
        "    time_series_array = time_series_array.append(time_series_array[-1:] + pd.DateOffset(1))\n",
        "time_series_array"
      ],
      "execution_count": null,
      "outputs": [
        {
          "output_type": "execute_result",
          "data": {
            "text/plain": [
              "DatetimeIndex(['2021-04-06', '2021-04-07', '2021-04-08', '2021-04-09',\n",
              "               '2021-04-10', '2021-04-11', '2021-04-12', '2021-04-13',\n",
              "               '2021-04-14', '2021-04-15', '2021-04-16', '2021-04-17'],\n",
              "              dtype='datetime64[ns]', freq=None)"
            ]
          },
          "metadata": {
            "tags": []
          },
          "execution_count": 22
        }
      ]
    },
    {
      "cell_type": "code",
      "metadata": {
        "trusted": true,
        "colab": {
          "base_uri": "https://localhost:8080/",
          "height": 421
        },
        "id": "2zOcwRyBvHTt",
        "outputId": "641aee1b-1729-4856-828d-6be3a30e84e2"
      },
      "source": [
        "df_forecast = pd.DataFrame(columns=[\"confirmed\",\"confirmed_predicted\"],index=time_series_array)\n",
        "df_forecast.loc[:,\"confirmed_predicted\"] = true_prediction[:,0]\n",
        "df_forecast.loc[:,\"confirmed\"] = test[\"confirmed\"]\n",
        "df_forecast"
      ],
      "execution_count": null,
      "outputs": [
        {
          "output_type": "execute_result",
          "data": {
            "text/html": [
              "<div>\n",
              "<style scoped>\n",
              "    .dataframe tbody tr th:only-of-type {\n",
              "        vertical-align: middle;\n",
              "    }\n",
              "\n",
              "    .dataframe tbody tr th {\n",
              "        vertical-align: top;\n",
              "    }\n",
              "\n",
              "    .dataframe thead th {\n",
              "        text-align: right;\n",
              "    }\n",
              "</style>\n",
              "<table border=\"1\" class=\"dataframe\">\n",
              "  <thead>\n",
              "    <tr style=\"text-align: right;\">\n",
              "      <th></th>\n",
              "      <th>confirmed</th>\n",
              "      <th>confirmed_predicted</th>\n",
              "    </tr>\n",
              "  </thead>\n",
              "  <tbody>\n",
              "    <tr>\n",
              "      <th>2021-04-06</th>\n",
              "      <td>12801785.0</td>\n",
              "      <td>1.366095e+07</td>\n",
              "    </tr>\n",
              "    <tr>\n",
              "      <th>2021-04-07</th>\n",
              "      <td>12928574.0</td>\n",
              "      <td>1.396559e+07</td>\n",
              "    </tr>\n",
              "    <tr>\n",
              "      <th>2021-04-08</th>\n",
              "      <td>13060542.0</td>\n",
              "      <td>1.433558e+07</td>\n",
              "    </tr>\n",
              "    <tr>\n",
              "      <th>2021-04-09</th>\n",
              "      <td>13205926.0</td>\n",
              "      <td>1.475322e+07</td>\n",
              "    </tr>\n",
              "    <tr>\n",
              "      <th>2021-04-10</th>\n",
              "      <td>13358805.0</td>\n",
              "      <td>1.523428e+07</td>\n",
              "    </tr>\n",
              "    <tr>\n",
              "      <th>2021-04-11</th>\n",
              "      <td>NaN</td>\n",
              "      <td>1.580847e+07</td>\n",
              "    </tr>\n",
              "    <tr>\n",
              "      <th>2021-04-12</th>\n",
              "      <td>NaN</td>\n",
              "      <td>1.630214e+07</td>\n",
              "    </tr>\n",
              "    <tr>\n",
              "      <th>2021-04-13</th>\n",
              "      <td>NaN</td>\n",
              "      <td>1.684431e+07</td>\n",
              "    </tr>\n",
              "    <tr>\n",
              "      <th>2021-04-14</th>\n",
              "      <td>NaN</td>\n",
              "      <td>1.743030e+07</td>\n",
              "    </tr>\n",
              "    <tr>\n",
              "      <th>2021-04-15</th>\n",
              "      <td>NaN</td>\n",
              "      <td>1.806557e+07</td>\n",
              "    </tr>\n",
              "    <tr>\n",
              "      <th>2021-04-16</th>\n",
              "      <td>NaN</td>\n",
              "      <td>1.874734e+07</td>\n",
              "    </tr>\n",
              "    <tr>\n",
              "      <th>2021-04-17</th>\n",
              "      <td>NaN</td>\n",
              "      <td>1.946515e+07</td>\n",
              "    </tr>\n",
              "  </tbody>\n",
              "</table>\n",
              "</div>"
            ],
            "text/plain": [
              "             confirmed  confirmed_predicted\n",
              "2021-04-06  12801785.0         1.366095e+07\n",
              "2021-04-07  12928574.0         1.396559e+07\n",
              "2021-04-08  13060542.0         1.433558e+07\n",
              "2021-04-09  13205926.0         1.475322e+07\n",
              "2021-04-10  13358805.0         1.523428e+07\n",
              "2021-04-11         NaN         1.580847e+07\n",
              "2021-04-12         NaN         1.630214e+07\n",
              "2021-04-13         NaN         1.684431e+07\n",
              "2021-04-14         NaN         1.743030e+07\n",
              "2021-04-15         NaN         1.806557e+07\n",
              "2021-04-16         NaN         1.874734e+07\n",
              "2021-04-17         NaN         1.946515e+07"
            ]
          },
          "metadata": {
            "tags": []
          },
          "execution_count": 23
        }
      ]
    },
    {
      "cell_type": "code",
      "metadata": {
        "trusted": true,
        "colab": {
          "base_uri": "https://localhost:8080/",
          "height": 322
        },
        "id": "5mJJQpDGvHTt",
        "outputId": "74a373fe-b375-4b65-a91c-7f0bb95aaefc"
      },
      "source": [
        "df_forecast.plot(title=\"Predictions for next 7 days\")"
      ],
      "execution_count": null,
      "outputs": [
        {
          "output_type": "execute_result",
          "data": {
            "text/plain": [
              "<matplotlib.axes._subplots.AxesSubplot at 0x7fe0d079cb90>"
            ]
          },
          "metadata": {
            "tags": []
          },
          "execution_count": 24
        },
        {
          "output_type": "display_data",
          "data": {
            "image/png": "[encoded data removed]",
            "text/plain": [
              "<Figure size 432x288 with 1 Axes>"
            ]
          },
          "metadata": {
            "tags": [],
            "needs_background": "light"
          }
        }
      ]
    },
    {
      "cell_type": "code",
      "metadata": {
        "trusted": true,
        "colab": {
          "base_uri": "https://localhost:8080/"
        },
        "id": "MsNma6EUvHTu",
        "outputId": "b85668d2-d40b-415d-be7b-94ab58bbbf32"
      },
      "source": [
        "MAPE = np.mean(np.abs(np.array(df_forecast[\"confirmed\"][:5]) - np.array(df_forecast[\"confirmed_predicted\"][:5]))/np.array(df_forecast[\"confirmed\"][:5]))\n",
        "print(\"MAPE is \" + str(MAPE*100) + \" %\")"
      ],
      "execution_count": null,
      "outputs": [
        {
          "output_type": "stream",
          "text": [
            "MAPE is 10.05017000145604 %\n"
          ],
          "name": "stdout"
        }
      ]
    },
    {
      "cell_type": "code",
      "metadata": {
        "trusted": true,
        "colab": {
          "base_uri": "https://localhost:8080/"
        },
        "id": "2kLHxlFdvHTu",
        "outputId": "2da26126-3f8f-4ee8-a828-1d7a396ac4d5"
      },
      "source": [
        "sum_errs = np.sum((np.array(df_forecast[\"confirmed\"][:5]) - np.array(df_forecast[\"confirmed_predicted\"][:5]))**2)\n",
        "sum_errs"
      ],
      "execution_count": null,
      "outputs": [
        {
          "output_type": "execute_result",
          "data": {
            "text/plain": [
              "9350819656088.012"
            ]
          },
          "metadata": {
            "tags": []
          },
          "execution_count": 26
        }
      ]
    },
    {
      "cell_type": "code",
      "metadata": {
        "trusted": true,
        "colab": {
          "base_uri": "https://localhost:8080/"
        },
        "id": "l1BuoBHxvHTu",
        "outputId": "03606248-a380-420d-d41d-e52acbd9b061"
      },
      "source": [
        "stdev = np.sqrt(1/(5-2) * sum_errs)\n",
        "stdev"
      ],
      "execution_count": null,
      "outputs": [
        {
          "output_type": "execute_result",
          "data": {
            "text/plain": [
              "1765485.7363804076"
            ]
          },
          "metadata": {
            "tags": []
          },
          "execution_count": 27
        }
      ]
    },
    {
      "cell_type": "code",
      "metadata": {
        "trusted": true,
        "colab": {
          "base_uri": "https://localhost:8080/"
        },
        "id": "Cwmy8Yd-vHTu",
        "outputId": "15b45c45-231a-4818-bfc6-bc11dd5c0d29"
      },
      "source": [
        "interval = 1.96 * stdev\n",
        "interval"
      ],
      "execution_count": null,
      "outputs": [
        {
          "output_type": "execute_result",
          "data": {
            "text/plain": [
              "3460352.0433055987"
            ]
          },
          "metadata": {
            "tags": []
          },
          "execution_count": 28
        }
      ]
    },
    {
      "cell_type": "code",
      "metadata": {
        "trusted": true,
        "colab": {
          "base_uri": "https://localhost:8080/",
          "height": 421
        },
        "id": "dAzUeoMIvHTu",
        "outputId": "b771caf8-ff74-4a49-a9c6-e3771c6ef343"
      },
      "source": [
        "df_forecast[\"confirm_min\"] = df_forecast[\"confirmed_predicted\"] - interval\n",
        "df_forecast[\"confirm_max\"] = df_forecast[\"confirmed_predicted\"] + interval\n",
        "df_forecast"
      ],
      "execution_count": null,
      "outputs": [
        {
          "output_type": "execute_result",
          "data": {
            "text/html": [
              "<div>\n",
              "<style scoped>\n",
              "    .dataframe tbody tr th:only-of-type {\n",
              "        vertical-align: middle;\n",
              "    }\n",
              "\n",
              "    .dataframe tbody tr th {\n",
              "        vertical-align: top;\n",
              "    }\n",
              "\n",
              "    .dataframe thead th {\n",
              "        text-align: right;\n",
              "    }\n",
              "</style>\n",
              "<table border=\"1\" class=\"dataframe\">\n",
              "  <thead>\n",
              "    <tr style=\"text-align: right;\">\n",
              "      <th></th>\n",
              "      <th>confirmed</th>\n",
              "      <th>confirmed_predicted</th>\n",
              "      <th>confirm_min</th>\n",
              "      <th>confirm_max</th>\n",
              "    </tr>\n",
              "  </thead>\n",
              "  <tbody>\n",
              "    <tr>\n",
              "      <th>2021-04-06</th>\n",
              "      <td>12801785.0</td>\n",
              "      <td>1.366095e+07</td>\n",
              "      <td>1.020060e+07</td>\n",
              "      <td>1.712130e+07</td>\n",
              "    </tr>\n",
              "    <tr>\n",
              "      <th>2021-04-07</th>\n",
              "      <td>12928574.0</td>\n",
              "      <td>1.396559e+07</td>\n",
              "      <td>1.050524e+07</td>\n",
              "      <td>1.742594e+07</td>\n",
              "    </tr>\n",
              "    <tr>\n",
              "      <th>2021-04-08</th>\n",
              "      <td>13060542.0</td>\n",
              "      <td>1.433558e+07</td>\n",
              "      <td>1.087523e+07</td>\n",
              "      <td>1.779593e+07</td>\n",
              "    </tr>\n",
              "    <tr>\n",
              "      <th>2021-04-09</th>\n",
              "      <td>13205926.0</td>\n",
              "      <td>1.475322e+07</td>\n",
              "      <td>1.129286e+07</td>\n",
              "      <td>1.821357e+07</td>\n",
              "    </tr>\n",
              "    <tr>\n",
              "      <th>2021-04-10</th>\n",
              "      <td>13358805.0</td>\n",
              "      <td>1.523428e+07</td>\n",
              "      <td>1.177393e+07</td>\n",
              "      <td>1.869463e+07</td>\n",
              "    </tr>\n",
              "    <tr>\n",
              "      <th>2021-04-11</th>\n",
              "      <td>NaN</td>\n",
              "      <td>1.580847e+07</td>\n",
              "      <td>1.234812e+07</td>\n",
              "      <td>1.926883e+07</td>\n",
              "    </tr>\n",
              "    <tr>\n",
              "      <th>2021-04-12</th>\n",
              "      <td>NaN</td>\n",
              "      <td>1.630214e+07</td>\n",
              "      <td>1.284179e+07</td>\n",
              "      <td>1.976249e+07</td>\n",
              "    </tr>\n",
              "    <tr>\n",
              "      <th>2021-04-13</th>\n",
              "      <td>NaN</td>\n",
              "      <td>1.684431e+07</td>\n",
              "      <td>1.338396e+07</td>\n",
              "      <td>2.030466e+07</td>\n",
              "    </tr>\n",
              "    <tr>\n",
              "      <th>2021-04-14</th>\n",
              "      <td>NaN</td>\n",
              "      <td>1.743030e+07</td>\n",
              "      <td>1.396995e+07</td>\n",
              "      <td>2.089066e+07</td>\n",
              "    </tr>\n",
              "    <tr>\n",
              "      <th>2021-04-15</th>\n",
              "      <td>NaN</td>\n",
              "      <td>1.806557e+07</td>\n",
              "      <td>1.460522e+07</td>\n",
              "      <td>2.152592e+07</td>\n",
              "    </tr>\n",
              "    <tr>\n",
              "      <th>2021-04-16</th>\n",
              "      <td>NaN</td>\n",
              "      <td>1.874734e+07</td>\n",
              "      <td>1.528699e+07</td>\n",
              "      <td>2.220769e+07</td>\n",
              "    </tr>\n",
              "    <tr>\n",
              "      <th>2021-04-17</th>\n",
              "      <td>NaN</td>\n",
              "      <td>1.946515e+07</td>\n",
              "      <td>1.600479e+07</td>\n",
              "      <td>2.292550e+07</td>\n",
              "    </tr>\n",
              "  </tbody>\n",
              "</table>\n",
              "</div>"
            ],
            "text/plain": [
              "             confirmed  confirmed_predicted   confirm_min   confirm_max\n",
              "2021-04-06  12801785.0         1.366095e+07  1.020060e+07  1.712130e+07\n",
              "2021-04-07  12928574.0         1.396559e+07  1.050524e+07  1.742594e+07\n",
              "2021-04-08  13060542.0         1.433558e+07  1.087523e+07  1.779593e+07\n",
              "2021-04-09  13205926.0         1.475322e+07  1.129286e+07  1.821357e+07\n",
              "2021-04-10  13358805.0         1.523428e+07  1.177393e+07  1.869463e+07\n",
              "2021-04-11         NaN         1.580847e+07  1.234812e+07  1.926883e+07\n",
              "2021-04-12         NaN         1.630214e+07  1.284179e+07  1.976249e+07\n",
              "2021-04-13         NaN         1.684431e+07  1.338396e+07  2.030466e+07\n",
              "2021-04-14         NaN         1.743030e+07  1.396995e+07  2.089066e+07\n",
              "2021-04-15         NaN         1.806557e+07  1.460522e+07  2.152592e+07\n",
              "2021-04-16         NaN         1.874734e+07  1.528699e+07  2.220769e+07\n",
              "2021-04-17         NaN         1.946515e+07  1.600479e+07  2.292550e+07"
            ]
          },
          "metadata": {
            "tags": []
          },
          "execution_count": 29
        }
      ]
    },
    {
      "cell_type": "code",
      "metadata": {
        "trusted": true,
        "colab": {
          "base_uri": "https://localhost:8080/",
          "height": 421
        },
        "id": "5DMF4yKqvHTv",
        "outputId": "4739e8cc-f043-4a0b-d57f-f774796be328"
      },
      "source": [
        "df_forecast[\"Model Accuracy\"] = round((1-MAPE),2)\n",
        "df_forecast"
      ],
      "execution_count": null,
      "outputs": [
        {
          "output_type": "execute_result",
          "data": {
            "text/html": [
              "<div>\n",
              "<style scoped>\n",
              "    .dataframe tbody tr th:only-of-type {\n",
              "        vertical-align: middle;\n",
              "    }\n",
              "\n",
              "    .dataframe tbody tr th {\n",
              "        vertical-align: top;\n",
              "    }\n",
              "\n",
              "    .dataframe thead th {\n",
              "        text-align: right;\n",
              "    }\n",
              "</style>\n",
              "<table border=\"1\" class=\"dataframe\">\n",
              "  <thead>\n",
              "    <tr style=\"text-align: right;\">\n",
              "      <th></th>\n",
              "      <th>confirmed</th>\n",
              "      <th>confirmed_predicted</th>\n",
              "      <th>confirm_min</th>\n",
              "      <th>confirm_max</th>\n",
              "      <th>Model Accuracy</th>\n",
              "    </tr>\n",
              "  </thead>\n",
              "  <tbody>\n",
              "    <tr>\n",
              "      <th>2021-04-06</th>\n",
              "      <td>12801785.0</td>\n",
              "      <td>1.366095e+07</td>\n",
              "      <td>1.020060e+07</td>\n",
              "      <td>1.712130e+07</td>\n",
              "      <td>0.9</td>\n",
              "    </tr>\n",
              "    <tr>\n",
              "      <th>2021-04-07</th>\n",
              "      <td>12928574.0</td>\n",
              "      <td>1.396559e+07</td>\n",
              "      <td>1.050524e+07</td>\n",
              "      <td>1.742594e+07</td>\n",
              "      <td>0.9</td>\n",
              "    </tr>\n",
              "    <tr>\n",
              "      <th>2021-04-08</th>\n",
              "      <td>13060542.0</td>\n",
              "      <td>1.433558e+07</td>\n",
              "      <td>1.087523e+07</td>\n",
              "      <td>1.779593e+07</td>\n",
              "      <td>0.9</td>\n",
              "    </tr>\n",
              "    <tr>\n",
              "      <th>2021-04-09</th>\n",
              "      <td>13205926.0</td>\n",
              "      <td>1.475322e+07</td>\n",
              "      <td>1.129286e+07</td>\n",
              "      <td>1.821357e+07</td>\n",
              "      <td>0.9</td>\n",
              "    </tr>\n",
              "    <tr>\n",
              "      <th>2021-04-10</th>\n",
              "      <td>13358805.0</td>\n",
              "      <td>1.523428e+07</td>\n",
              "      <td>1.177393e+07</td>\n",
              "      <td>1.869463e+07</td>\n",
              "      <td>0.9</td>\n",
              "    </tr>\n",
              "    <tr>\n",
              "      <th>2021-04-11</th>\n",
              "      <td>NaN</td>\n",
              "      <td>1.580847e+07</td>\n",
              "      <td>1.234812e+07</td>\n",
              "      <td>1.926883e+07</td>\n",
              "      <td>0.9</td>\n",
              "    </tr>\n",
              "    <tr>\n",
              "      <th>2021-04-12</th>\n",
              "      <td>NaN</td>\n",
              "      <td>1.630214e+07</td>\n",
              "      <td>1.284179e+07</td>\n",
              "      <td>1.976249e+07</td>\n",
              "      <td>0.9</td>\n",
              "    </tr>\n",
              "    <tr>\n",
              "      <th>2021-04-13</th>\n",
              "      <td>NaN</td>\n",
              "      <td>1.684431e+07</td>\n",
              "      <td>1.338396e+07</td>\n",
              "      <td>2.030466e+07</td>\n",
              "      <td>0.9</td>\n",
              "    </tr>\n",
              "    <tr>\n",
              "      <th>2021-04-14</th>\n",
              "      <td>NaN</td>\n",
              "      <td>1.743030e+07</td>\n",
              "      <td>1.396995e+07</td>\n",
              "      <td>2.089066e+07</td>\n",
              "      <td>0.9</td>\n",
              "    </tr>\n",
              "    <tr>\n",
              "      <th>2021-04-15</th>\n",
              "      <td>NaN</td>\n",
              "      <td>1.806557e+07</td>\n",
              "      <td>1.460522e+07</td>\n",
              "      <td>2.152592e+07</td>\n",
              "      <td>0.9</td>\n",
              "    </tr>\n",
              "    <tr>\n",
              "      <th>2021-04-16</th>\n",
              "      <td>NaN</td>\n",
              "      <td>1.874734e+07</td>\n",
              "      <td>1.528699e+07</td>\n",
              "      <td>2.220769e+07</td>\n",
              "      <td>0.9</td>\n",
              "    </tr>\n",
              "    <tr>\n",
              "      <th>2021-04-17</th>\n",
              "      <td>NaN</td>\n",
              "      <td>1.946515e+07</td>\n",
              "      <td>1.600479e+07</td>\n",
              "      <td>2.292550e+07</td>\n",
              "      <td>0.9</td>\n",
              "    </tr>\n",
              "  </tbody>\n",
              "</table>\n",
              "</div>"
            ],
            "text/plain": [
              "             confirmed  confirmed_predicted  ...   confirm_max  Model Accuracy\n",
              "2021-04-06  12801785.0         1.366095e+07  ...  1.712130e+07             0.9\n",
              "2021-04-07  12928574.0         1.396559e+07  ...  1.742594e+07             0.9\n",
              "2021-04-08  13060542.0         1.433558e+07  ...  1.779593e+07             0.9\n",
              "2021-04-09  13205926.0         1.475322e+07  ...  1.821357e+07             0.9\n",
              "2021-04-10  13358805.0         1.523428e+07  ...  1.869463e+07             0.9\n",
              "2021-04-11         NaN         1.580847e+07  ...  1.926883e+07             0.9\n",
              "2021-04-12         NaN         1.630214e+07  ...  1.976249e+07             0.9\n",
              "2021-04-13         NaN         1.684431e+07  ...  2.030466e+07             0.9\n",
              "2021-04-14         NaN         1.743030e+07  ...  2.089066e+07             0.9\n",
              "2021-04-15         NaN         1.806557e+07  ...  2.152592e+07             0.9\n",
              "2021-04-16         NaN         1.874734e+07  ...  2.220769e+07             0.9\n",
              "2021-04-17         NaN         1.946515e+07  ...  2.292550e+07             0.9\n",
              "\n",
              "[12 rows x 5 columns]"
            ]
          },
          "metadata": {
            "tags": []
          },
          "execution_count": 30
        }
      ]
    },
    {
      "cell_type": "code",
      "metadata": {
        "trusted": true,
        "colab": {
          "base_uri": "https://localhost:8080/",
          "height": 421
        },
        "id": "BLxqSboUvHTv",
        "outputId": "78970da0-3746-49ad-bc32-e931cb99bb39"
      },
      "source": [
        "from datetime import datetime\n",
        "df_forecast[\"Country\"] = country\n",
        "df_forecast"
      ],
      "execution_count": null,
      "outputs": [
        {
          "output_type": "execute_result",
          "data": {
            "text/html": [
              "<div>\n",
              "<style scoped>\n",
              "    .dataframe tbody tr th:only-of-type {\n",
              "        vertical-align: middle;\n",
              "    }\n",
              "\n",
              "    .dataframe tbody tr th {\n",
              "        vertical-align: top;\n",
              "    }\n",
              "\n",
              "    .dataframe thead th {\n",
              "        text-align: right;\n",
              "    }\n",
              "</style>\n",
              "<table border=\"1\" class=\"dataframe\">\n",
              "  <thead>\n",
              "    <tr style=\"text-align: right;\">\n",
              "      <th></th>\n",
              "      <th>confirmed</th>\n",
              "      <th>confirmed_predicted</th>\n",
              "      <th>confirm_min</th>\n",
              "      <th>confirm_max</th>\n",
              "      <th>Model Accuracy</th>\n",
              "      <th>Country</th>\n",
              "    </tr>\n",
              "  </thead>\n",
              "  <tbody>\n",
              "    <tr>\n",
              "      <th>2021-04-06</th>\n",
              "      <td>12801785.0</td>\n",
              "      <td>1.366095e+07</td>\n",
              "      <td>1.020060e+07</td>\n",
              "      <td>1.712130e+07</td>\n",
              "      <td>0.9</td>\n",
              "      <td>India</td>\n",
              "    </tr>\n",
              "    <tr>\n",
              "      <th>2021-04-07</th>\n",
              "      <td>12928574.0</td>\n",
              "      <td>1.396559e+07</td>\n",
              "      <td>1.050524e+07</td>\n",
              "      <td>1.742594e+07</td>\n",
              "      <td>0.9</td>\n",
              "      <td>India</td>\n",
              "    </tr>\n",
              "    <tr>\n",
              "      <th>2021-04-08</th>\n",
              "      <td>13060542.0</td>\n",
              "      <td>1.433558e+07</td>\n",
              "      <td>1.087523e+07</td>\n",
              "      <td>1.779593e+07</td>\n",
              "      <td>0.9</td>\n",
              "      <td>India</td>\n",
              "    </tr>\n",
              "    <tr>\n",
              "      <th>2021-04-09</th>\n",
              "      <td>13205926.0</td>\n",
              "      <td>1.475322e+07</td>\n",
              "      <td>1.129286e+07</td>\n",
              "      <td>1.821357e+07</td>\n",
              "      <td>0.9</td>\n",
              "      <td>India</td>\n",
              "    </tr>\n",
              "    <tr>\n",
              "      <th>2021-04-10</th>\n",
              "      <td>13358805.0</td>\n",
              "      <td>1.523428e+07</td>\n",
              "      <td>1.177393e+07</td>\n",
              "      <td>1.869463e+07</td>\n",
              "      <td>0.9</td>\n",
              "      <td>India</td>\n",
              "    </tr>\n",
              "    <tr>\n",
              "      <th>2021-04-11</th>\n",
              "      <td>NaN</td>\n",
              "      <td>1.580847e+07</td>\n",
              "      <td>1.234812e+07</td>\n",
              "      <td>1.926883e+07</td>\n",
              "      <td>0.9</td>\n",
              "      <td>India</td>\n",
              "    </tr>\n",
              "    <tr>\n",
              "      <th>2021-04-12</th>\n",
              "      <td>NaN</td>\n",
              "      <td>1.630214e+07</td>\n",
              "      <td>1.284179e+07</td>\n",
              "      <td>1.976249e+07</td>\n",
              "      <td>0.9</td>\n",
              "      <td>India</td>\n",
              "    </tr>\n",
              "    <tr>\n",
              "      <th>2021-04-13</th>\n",
              "      <td>NaN</td>\n",
              "      <td>1.684431e+07</td>\n",
              "      <td>1.338396e+07</td>\n",
              "      <td>2.030466e+07</td>\n",
              "      <td>0.9</td>\n",
              "      <td>India</td>\n",
              "    </tr>\n",
              "    <tr>\n",
              "      <th>2021-04-14</th>\n",
              "      <td>NaN</td>\n",
              "      <td>1.743030e+07</td>\n",
              "      <td>1.396995e+07</td>\n",
              "      <td>2.089066e+07</td>\n",
              "      <td>0.9</td>\n",
              "      <td>India</td>\n",
              "    </tr>\n",
              "    <tr>\n",
              "      <th>2021-04-15</th>\n",
              "      <td>NaN</td>\n",
              "      <td>1.806557e+07</td>\n",
              "      <td>1.460522e+07</td>\n",
              "      <td>2.152592e+07</td>\n",
              "      <td>0.9</td>\n",
              "      <td>India</td>\n",
              "    </tr>\n",
              "    <tr>\n",
              "      <th>2021-04-16</th>\n",
              "      <td>NaN</td>\n",
              "      <td>1.874734e+07</td>\n",
              "      <td>1.528699e+07</td>\n",
              "      <td>2.220769e+07</td>\n",
              "      <td>0.9</td>\n",
              "      <td>India</td>\n",
              "    </tr>\n",
              "    <tr>\n",
              "      <th>2021-04-17</th>\n",
              "      <td>NaN</td>\n",
              "      <td>1.946515e+07</td>\n",
              "      <td>1.600479e+07</td>\n",
              "      <td>2.292550e+07</td>\n",
              "      <td>0.9</td>\n",
              "      <td>India</td>\n",
              "    </tr>\n",
              "  </tbody>\n",
              "</table>\n",
              "</div>"
            ],
            "text/plain": [
              "             confirmed  confirmed_predicted  ...  Model Accuracy  Country\n",
              "2021-04-06  12801785.0         1.366095e+07  ...             0.9    India\n",
              "2021-04-07  12928574.0         1.396559e+07  ...             0.9    India\n",
              "2021-04-08  13060542.0         1.433558e+07  ...             0.9    India\n",
              "2021-04-09  13205926.0         1.475322e+07  ...             0.9    India\n",
              "2021-04-10  13358805.0         1.523428e+07  ...             0.9    India\n",
              "2021-04-11         NaN         1.580847e+07  ...             0.9    India\n",
              "2021-04-12         NaN         1.630214e+07  ...             0.9    India\n",
              "2021-04-13         NaN         1.684431e+07  ...             0.9    India\n",
              "2021-04-14         NaN         1.743030e+07  ...             0.9    India\n",
              "2021-04-15         NaN         1.806557e+07  ...             0.9    India\n",
              "2021-04-16         NaN         1.874734e+07  ...             0.9    India\n",
              "2021-04-17         NaN         1.946515e+07  ...             0.9    India\n",
              "\n",
              "[12 rows x 6 columns]"
            ]
          },
          "metadata": {
            "tags": []
          },
          "execution_count": 31
        }
      ]
    },
    {
      "cell_type": "code",
      "metadata": {
        "trusted": true,
        "colab": {
          "base_uri": "https://localhost:8080/",
          "height": 317
        },
        "id": "IIpltF1OvHTv",
        "outputId": "564df380-2b1b-40e9-c04a-5672c1c592f5"
      },
      "source": [
        "df_forecast.iloc[:,:4].plot()"
      ],
      "execution_count": null,
      "outputs": [
        {
          "output_type": "execute_result",
          "data": {
            "text/plain": [
              "<matplotlib.axes._subplots.AxesSubplot at 0x7fe0e207fad0>"
            ]
          },
          "metadata": {
            "tags": []
          },
          "execution_count": 32
        },
        {
          "output_type": "display_data",
          "data": {
            "image/png": "[encoded data removed]",
            "text/plain": [
              "<Figure size 432x288 with 1 Axes>"
            ]
          },
          "metadata": {
            "tags": [],
            "needs_background": "light"
          }
        }
      ]
    },
    {
      "cell_type": "code",
      "metadata": {
        "trusted": true,
        "colab": {
          "base_uri": "https://localhost:8080/",
          "height": 336
        },
        "id": "Z0mU0AMmvHTw",
        "outputId": "86bb2750-e215-4227-b80c-dc23fc380607"
      },
      "source": [
        "fig= plt.figure(figsize=(10,5))\n",
        "plt.title(\"{} - Results\".format(country))\n",
        "plt.plot(df_forecast.index,df_forecast[\"confirmed\"],label=\"confirmed\")\n",
        "plt.plot(df_forecast.index,df_forecast[\"confirmed_predicted\"],label=\"confirmed_predicted\")\n",
        "plt.fill_between(df_forecast.index,df_forecast[\"confirm_min\"],df_forecast[\"confirm_max\"],color=\"indigo\",alpha=0.09,label=\"Confidence Interval\")\n",
        "plt.legend()\n",
        "plt.show()"
      ],
      "execution_count": null,
      "outputs": [
        {
          "output_type": "display_data",
          "data": {
            "image/png": "[encoded data removed]",
            "text/plain": [
              "<Figure size 720x360 with 1 Axes>"
            ]
          },
          "metadata": {
            "tags": [],
            "needs_background": "light"
          }
        }
      ]
    }
  ]
}